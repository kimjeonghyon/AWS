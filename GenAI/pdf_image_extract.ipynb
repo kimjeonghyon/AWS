{
 "cells": [
  {
   "cell_type": "code",
   "execution_count": 1,
   "id": "b893cdec-a3cf-4953-b3f7-6c97979383d7",
   "metadata": {},
   "outputs": [],
   "source": [
    "from spire.pdf import *\n",
    "from spire.pdf.common import *\n",
    "\n",
    "# PdfDocument 클래스의 인스턴스 생성\n",
    "pdf = PdfDocument()"
   ]
  },
  {
   "cell_type": "code",
   "execution_count": 2,
   "id": "b1481e4c-2cda-4295-8dc5-70ce5c1d4482",
   "metadata": {},
   "outputs": [],
   "source": [
    "# PDF 문서 로드\n",
    "pdf.LoadFromFile(\"bedrock-documentation.pdf\")"
   ]
  },
  {
   "cell_type": "code",
   "execution_count": 3,
   "id": "79c3fbc3-1a55-4bd7-b11a-6d9cf3240ddc",
   "metadata": {},
   "outputs": [],
   "source": [
    "# 이미지를 저장할 리스트 생성\n",
    "images = []"
   ]
  },
  {
   "cell_type": "code",
   "execution_count": 4,
   "id": "4d90e873-9f92-4a7a-9efb-a732f1fbdfd3",
   "metadata": {},
   "outputs": [],
   "source": [
    "# 문서의 각 페이지를 반복\n",
    "for i in range(pdf.Pages.Count):\n",
    "    # 페이지 가져오기\n",
    "    page = pdf.Pages.get_Item(i)\n",
    "\n",
    "    # 페이지에서 이미지 추출하여 생성한 리스트에 저장\n",
    "    for img in page.ExtractImages():\n",
    "        images.append(img)"
   ]
  },
  {
   "cell_type": "code",
   "execution_count": 7,
   "id": "2c8216c6-2700-4853-ae43-955e8feed7e9",
   "metadata": {},
   "outputs": [],
   "source": [
    "# 리스트에 있는 이미지를 PNG 파일로 저장\n",
    "i = 0\n",
    "for image in images:\n",
    "    i += 1\n",
    "    image.Save(\"output/Images/Image-{0:d}.png\".format(i), ImageFormat.get_Png())\n",
    "pdf.Close()"
   ]
  },
  {
   "cell_type": "code",
   "execution_count": null,
   "id": "053dd214-e600-4dc6-95c5-fffa49210ee9",
   "metadata": {},
   "outputs": [],
   "source": []
  }
 ],
 "metadata": {
  "kernelspec": {
   "display_name": "Python 3 (ipykernel)",
   "language": "python",
   "name": "python3"
  },
  "language_info": {
   "codemirror_mode": {
    "name": "ipython",
    "version": 3
   },
   "file_extension": ".py",
   "mimetype": "text/x-python",
   "name": "python",
   "nbconvert_exporter": "python",
   "pygments_lexer": "ipython3",
   "version": "3.10.13"
  }
 },
 "nbformat": 4,
 "nbformat_minor": 5
}
