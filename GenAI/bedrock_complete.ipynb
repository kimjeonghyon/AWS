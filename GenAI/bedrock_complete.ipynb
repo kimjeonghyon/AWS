{
 "cells": [
  {
   "cell_type": "code",
   "execution_count": 1,
   "id": "da451f9b-cac5-4f57-81d3-86db6ebe0a5e",
   "metadata": {},
   "outputs": [
    {
     "name": "stdout",
     "output_type": "stream",
     "text": [
      " 블랙홀은 우주에서 가장 강력한 중력을 가진 천체입니다. \n",
      "\n",
      "블랙홀의 주요 특징들은 다음과 같습니다:\n",
      "\n",
      "- 블랙홀은 거대한 질량을 아주 작은 부피에 담고 있어서 중력이 매우 강하다. 심지어 빛조차 탈출할 수 없을 정도다.\n",
      "\n",
      "- 블랙홀 주위에는 사건의 지평선이 있다. 이 지평선 안쪽에서는 아무것도 밖으로 빠져나갈 수 없다. \n",
      "\n",
      "- 블랙홀은 다른 물질을 빨아들이면서 점점 더 커진다. 이를 통해 수퍼매스 블랙홀이 형성될 수 있다.\n",
      "\n",
      "- 블랙홀 주위에는 강력한 중력으로 인한 극端한 환경이 조성되어 있다. 이곳에서 물질들은 가속되어 전자기파를 방출한다.\n",
      "\n",
      "이상의 특성으로 인해 블랙홀은 우주에서 가장 신비로운 천체 중 하나로 여겨집니다.\n"
     ]
    }
   ],
   "source": [
    "import boto3\n",
    "from langchain.llms.bedrock import Bedrock\n",
    "\n",
    "bedrock_runtime = boto3.client(service_name=\"bedrock-runtime\",\n",
    "                               region_name=\"us-east-1\")\n",
    "\n",
    "# Amazon Bedrock의 claude 2.1 모델을 지정\n",
    "llm = Bedrock(model_id=\"anthropic.claude-v2:1\", \n",
    "              client=bedrock_runtime, \n",
    "              credentials_profile_name='default')\n",
    "\n",
    "# claude 2.1 모델의 파라미터 설정\n",
    "llm.model_kwargs = {\n",
    "   # \"prompt\": \"\\n\\nHuman:<prompt>\\n\\nAssistant:\",\n",
    "    \"temperature\": 0.5,\n",
    "    \"max_tokens_to_sample\": 512\n",
    "}\n",
    "\n",
    "# 완성할 문장을 보낸다.\n",
    "result = llm.invoke(input=\"블랙홀이란\")\n",
    "print(result)"
   ]
  }
 ],
 "metadata": {
  "kernelspec": {
   "display_name": "Python 3 (ipykernel)",
   "language": "python",
   "name": "python3"
  },
  "language_info": {
   "codemirror_mode": {
    "name": "ipython",
    "version": 3
   },
   "file_extension": ".py",
   "mimetype": "text/x-python",
   "name": "python",
   "nbconvert_exporter": "python",
   "pygments_lexer": "ipython3",
   "version": "3.10.13"
  }
 },
 "nbformat": 4,
 "nbformat_minor": 5
}
