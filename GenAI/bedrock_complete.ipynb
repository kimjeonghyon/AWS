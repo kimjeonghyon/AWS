{
 "cells": [
  {
   "cell_type": "code",
   "execution_count": 5,
   "id": "da451f9b-cac5-4f57-81d3-86db6ebe0a5e",
   "metadata": {},
   "outputs": [
    {
     "name": "stdout",
     "output_type": "stream",
     "text": [
      " 블랙홀은 우주에서 가장 기묘하고 흥미로운 천체 중 하나입니다. \n",
      "\n",
      "- 블랙홀은 별의 죽음을 통해 형성됩니다. 매우 무거운 별이 죽을 때, 그 질량이 너무 커서 중력이 너무 강해져 별의 내부를 강하게 압축합니다. 이 과정에서 별의 일부 물질이 밖으로 날아가고, 중심부만 남습니다. \n",
      "\n",
      "- 이 중심부는 굉장히 밀도가 높아서, 빛조차 탈출할 수 없을 정도로 강력한 중력을 지닙니다. 이처럼 빛조차 탈출할 수 없는 천체를 블랙홀이라고 합니다. \n",
      "\n",
      "- 블랙홀 주위에는 사건의 지평선이라고 하는 경계면이 있습니다. 이 너머로 떨어지면 절대로 빠져나올 수 없습니다. \n",
      "\n",
      "- 블랙홀은 질량과 전하를 가집니다. 질량이 클수록 중력이 세지기 때문에 더 강력한 블랙홀이 됩니다. \n",
      "\n",
      "이처럼 블랙홀은 우리가 알고 있던 물리법칙의 한계를 넘어서 있는, 매우 신비로운 천체입니다.\n"
     ]
    }
   ],
   "source": [
    "import boto3\n",
    "from langchain.llms.bedrock import Bedrock\n",
    "\n",
    "bedrock_runtime = boto3.client(service_name=\"bedrock-runtime\",\n",
    "                               region_name=\"us-east-1\")\n",
    "\n",
    "# Amazon Bedrock의 claude 2.1 모델을 지정\n",
    "llm = Bedrock(model_id=\"anthropic.claude-v2:1\", \n",
    "              client=bedrock_runtime, \n",
    "              credentials_profile_name='default')\n",
    "\n",
    "# claude 2.1 모델의 파라미터 설정\n",
    "llm.model_kwargs = {\n",
    "   # \"prompt\": \"\\n\\nHuman:<prompt>\\n\\nAssistant:\",\n",
    "    \"temperature\": 0.5,\n",
    "    \"max_tokens_to_sample\": 512\n",
    "}\n",
    "\n",
    "# 완성할 문장을 보낸다.\n",
    "result = llm.predict(\"블랙홀이란\")\n",
    "print(result)"
   ]
  },
  {
   "cell_type": "code",
   "execution_count": null,
   "id": "611d514c-e5e7-4306-8e9c-a680d9718efd",
   "metadata": {},
   "outputs": [],
   "source": []
  }
 ],
 "metadata": {
  "kernelspec": {
   "display_name": "Python 3 (ipykernel)",
   "language": "python",
   "name": "python3"
  },
  "language_info": {
   "codemirror_mode": {
    "name": "ipython",
    "version": 3
   },
   "file_extension": ".py",
   "mimetype": "text/x-python",
   "name": "python",
   "nbconvert_exporter": "python",
   "pygments_lexer": "ipython3",
   "version": "3.10.13"
  }
 },
 "nbformat": 4,
 "nbformat_minor": 5
}
