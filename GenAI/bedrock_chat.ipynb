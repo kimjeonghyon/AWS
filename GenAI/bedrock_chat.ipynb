{
 "cells": [
  {
   "cell_type": "code",
   "execution_count": 6,
   "id": "d2223431-71df-46c9-bbb9-974b4eb3104a",
   "metadata": {},
   "outputs": [
    {
     "name": "stdout",
     "output_type": "stream",
     "text": [
      " 블랙홀은 우주에서 가장 강력한 중력을 가진 천체입니다. \n",
      "\n",
      "블랙홀의 주요 특징들은 다음과 같습니다:\n",
      "\n",
      "- 블랙홀은 엄청난 질량을 아주 작은 부피에 담고 있습니다. 이로 인해 주위의 시공간이 엄청나게 휘어지고 강력한 중력이 발생합니다.\n",
      "\n",
      "- 블랙홀의 중력은 너무 강해서 광속도 이상으로 도망가려는 물체조차도 도망갈 수 없습니다. 이 주위 영역을 '사건의 지평선'이라고 합니다. \n",
      "\n",
      "- 블랙홀은 직접 볼 수 없습니다. 다만 주위 가스와 물질을 빨아들이면서 발생하는 X선과 같은 전파를 관측할 수 있습니다. \n",
      "\n",
      "- 블랙홀의 중심에는 중력이 무한대로 발달하는 '싱귤러리티(특이점)'가 있다고 생각합니다. 여기에서는 알려진 물리법칙이 깨지는 것으로 예상됩니다.\n",
      "\n",
      "이상이 블랙홀의 대표적인 특성들입니다. 매우 특이한 천체이기 때문에 아직 완전히 이해되지 않고 있습니다.\n"
     ]
    }
   ],
   "source": [
    "import boto3\n",
    "from langchain.chat_models import BedrockChat\n",
    "from langchain.schema import HumanMessage\n",
    "\n",
    "bedrock_runtime = boto3.client(service_name=\"bedrock-runtime\",\n",
    "                               region_name=\"us-east-1\")\n",
    "\n",
    "# Amazon Bedrock의 claude 2.1 모델을 지정\n",
    "chat = BedrockChat(model_id=\"anthropic.claude-v2:1\", client=bedrock_runtime, credentials_profile_name='default')\n",
    " \n",
    "# claude 2.1 모델의 파라미터 설정\n",
    "chat.model_kwargs = {\n",
    "    \"temperature\": 0.5,\n",
    "    \"max_tokens_to_sample\": 512\n",
    "}\n",
    "\n",
    "result = chat.predict_messages([HumanMessage(content=\"블랙홀이란\"),])\n",
    "print(result.content)"
   ]
  }
 ],
 "metadata": {
  "kernelspec": {
   "display_name": "Python 3 (ipykernel)",
   "language": "python",
   "name": "python3"
  },
  "language_info": {
   "codemirror_mode": {
    "name": "ipython",
    "version": 3
   },
   "file_extension": ".py",
   "mimetype": "text/x-python",
   "name": "python",
   "nbconvert_exporter": "python",
   "pygments_lexer": "ipython3",
   "version": "3.10.13"
  }
 },
 "nbformat": 4,
 "nbformat_minor": 5
}
