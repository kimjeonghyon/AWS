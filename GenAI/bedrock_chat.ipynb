{
 "cells": [
  {
   "cell_type": "code",
   "execution_count": 1,
   "id": "474a11f9-5ce3-423c-a4f0-0aa71e9e973d",
   "metadata": {},
   "outputs": [],
   "source": [
    "import boto3\n",
    "from langchain.chat_models import BedrockChat\n",
    "from langchain.schema import HumanMessage"
   ]
  },
  {
   "cell_type": "code",
   "execution_count": 4,
   "id": "756b43b9-a78f-44c5-b75b-ba38eb3f35cb",
   "metadata": {},
   "outputs": [],
   "source": [
    "bedrock_runtime = boto3.client(service_name=\"bedrock-runtime\",\n",
    "                               region_name=\"us-east-1\")\n",
    "chat = BedrockChat(\n",
    "    model_id=\"anthropic.claude-v2:1\", client=bedrock_runtime,\n",
    "    credentials_profile_name='default',\n",
    "    model_kwargs= {\n",
    "    \"temperature\": 0.5,\n",
    "    \"max_tokens_to_sample\": 512\n",
    "    }\n",
    ")"
   ]
  },
  {
   "cell_type": "code",
   "execution_count": 5,
   "id": "42dfb3a5-898d-4f25-91e9-d256a10da6ad",
   "metadata": {},
   "outputs": [
    {
     "name": "stderr",
     "output_type": "stream",
     "text": [
      "/opt/conda/lib/python3.10/site-packages/langchain_core/_api/deprecation.py:117: LangChainDeprecationWarning: The function `__call__` was deprecated in LangChain 0.1.7 and will be removed in 0.2.0. Use invoke instead.\n",
      "  warn_deprecated(\n"
     ]
    },
    {
     "name": "stdout",
     "output_type": "stream",
     "text": [
      " 안녕하세요! 반갑습니다. 무엇을 도와드릴까요?\n"
     ]
    }
   ],
   "source": [
    "result = chat(\n",
    "   [\n",
    "       HumanMessage(content=\"안녕하세요!\"),\n",
    "   ]\n",
    ")\n",
    "print(result.content)"
   ]
  },
  {
   "cell_type": "code",
   "execution_count": null,
   "id": "3db92fa8-eec9-40e3-938d-108cc546be21",
   "metadata": {},
   "outputs": [],
   "source": []
  }
 ],
 "metadata": {
  "kernelspec": {
   "display_name": "Python 3 (ipykernel)",
   "language": "python",
   "name": "python3"
  },
  "language_info": {
   "codemirror_mode": {
    "name": "ipython",
    "version": 3
   },
   "file_extension": ".py",
   "mimetype": "text/x-python",
   "name": "python",
   "nbconvert_exporter": "python",
   "pygments_lexer": "ipython3",
   "version": "3.10.13"
  }
 },
 "nbformat": 4,
 "nbformat_minor": 5
}
