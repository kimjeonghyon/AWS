{
 "cells": [
  {
   "cell_type": "code",
   "execution_count": 1,
   "id": "fbcef620-d09d-4d0f-9141-9751208d9b44",
   "metadata": {},
   "outputs": [],
   "source": [
    "from transformers import AutoModelForTokenClassification, AutoTokenizer"
   ]
  },
  {
   "cell_type": "code",
   "execution_count": 2,
   "id": "5424a534-a811-40f2-9bce-e5dd4747d61c",
   "metadata": {},
   "outputs": [
    {
     "data": {
      "application/vnd.jupyter.widget-view+json": {
       "model_id": "5cbe8d51c2464bcfb1748e61e68d8110",
       "version_major": 2,
       "version_minor": 0
      },
      "text/plain": [
       "config.json:   0%|          | 0.00/1.87k [00:00<?, ?B/s]"
      ]
     },
     "metadata": {},
     "output_type": "display_data"
    },
    {
     "name": "stderr",
     "output_type": "stream",
     "text": [
      "2024-04-08 09:03:14.274471: I tensorflow/core/platform/cpu_feature_guard.cc:182] This TensorFlow binary is optimized to use available CPU instructions in performance-critical operations.\n",
      "To enable the following instructions: SSE4.1 SSE4.2 AVX AVX2 AVX512F FMA, in other operations, rebuild TensorFlow with the appropriate compiler flags.\n"
     ]
    },
    {
     "data": {
      "application/vnd.jupyter.widget-view+json": {
       "model_id": "a45d09a9004f45508957a81bed36f798",
       "version_major": 2,
       "version_minor": 0
      },
      "text/plain": [
       "pytorch_model.bin:   0%|          | 0.00/56.3M [00:00<?, ?B/s]"
      ]
     },
     "metadata": {},
     "output_type": "display_data"
    }
   ],
   "source": [
    "model = AutoModelForTokenClassification.from_pretrained(\"yeye776/koelectra-finetuned-ner\")"
   ]
  },
  {
   "cell_type": "code",
   "execution_count": 3,
   "id": "b7577d32-d45f-41f0-83a8-8cd23e922560",
   "metadata": {},
   "outputs": [
    {
     "data": {
      "application/vnd.jupyter.widget-view+json": {
       "model_id": "01b66c4e7a144b5a923b9f8c04358b7b",
       "version_major": 2,
       "version_minor": 0
      },
      "text/plain": [
       "tokenizer_config.json:   0%|          | 0.00/1.27k [00:00<?, ?B/s]"
      ]
     },
     "metadata": {},
     "output_type": "display_data"
    },
    {
     "data": {
      "application/vnd.jupyter.widget-view+json": {
       "model_id": "5eef39ecd99d409789a6e1aa28b00b76",
       "version_major": 2,
       "version_minor": 0
      },
      "text/plain": [
       "vocab.txt:   0%|          | 0.00/263k [00:00<?, ?B/s]"
      ]
     },
     "metadata": {},
     "output_type": "display_data"
    },
    {
     "data": {
      "application/vnd.jupyter.widget-view+json": {
       "model_id": "5e378f936e1d4f0bb62502fb2d5550bc",
       "version_major": 2,
       "version_minor": 0
      },
      "text/plain": [
       "tokenizer.json:   0%|          | 0.00/815k [00:00<?, ?B/s]"
      ]
     },
     "metadata": {},
     "output_type": "display_data"
    },
    {
     "data": {
      "application/vnd.jupyter.widget-view+json": {
       "model_id": "1e5e87614053418c946de8d870810705",
       "version_major": 2,
       "version_minor": 0
      },
      "text/plain": [
       "added_tokens.json:   0%|          | 0.00/74.0 [00:00<?, ?B/s]"
      ]
     },
     "metadata": {},
     "output_type": "display_data"
    },
    {
     "data": {
      "application/vnd.jupyter.widget-view+json": {
       "model_id": "a44426e9d3d441e384045fec285252b9",
       "version_major": 2,
       "version_minor": 0
      },
      "text/plain": [
       "special_tokens_map.json:   0%|          | 0.00/125 [00:00<?, ?B/s]"
      ]
     },
     "metadata": {},
     "output_type": "display_data"
    }
   ],
   "source": [
    "tokenizer = AutoTokenizer.from_pretrained(\"yeye776/koelectra-finetuned-ner\")"
   ]
  },
  {
   "cell_type": "code",
   "execution_count": 4,
   "id": "41bfc388-ee30-4034-b447-b6a1cd10df30",
   "metadata": {},
   "outputs": [],
   "source": [
    "sentence=\"유선상으로 말씀하신 거래대금 120만원은 국민은행 123-4567-890 예금주 김철수로 12월 15일 오후 3시 전까지 송금해주세요. \\\n",
    "혹시 문제가 있다면 asdfgh@gmail.com으로 메일 보내주세요. 제 주소는 서울시 성북구 보문로 12길 345호입니다.\""
   ]
  },
  {
   "cell_type": "code",
   "execution_count": 5,
   "id": "8852f5e0-4995-4dd8-9cb1-a12e1c09590b",
   "metadata": {},
   "outputs": [],
   "source": [
    "tokens = tokenizer([sentence], return_tensors=\"pt\")"
   ]
  },
  {
   "cell_type": "code",
   "execution_count": 6,
   "id": "87e6d915-d3a6-4dd9-8e8d-b710a70efe31",
   "metadata": {},
   "outputs": [],
   "source": [
    "outputs = model(**tokens)"
   ]
  },
  {
   "cell_type": "code",
   "execution_count": 7,
   "id": "81d3796e-8bad-4774-a722-0a80c68867a5",
   "metadata": {},
   "outputs": [],
   "source": [
    "predictions = outputs['logits'].argmax(dim=-1)"
   ]
  },
  {
   "cell_type": "code",
   "execution_count": 9,
   "id": "0e091bc8-850d-4510-8839-bff439dff08a",
   "metadata": {},
   "outputs": [],
   "source": [
    "mask2word={}\n",
    "mask_list=[]\n",
    "word_list=[]\n",
    "is_entity=False\n",
    "prev=None"
   ]
  },
  {
   "cell_type": "code",
   "execution_count": 10,
   "id": "0d486af6-d01a-4f83-864a-8320174105b9",
   "metadata": {},
   "outputs": [
    {
     "name": "stdout",
     "output_type": "stream",
     "text": [
      "[('유선상으로', 'O'), ('말씀하신', 'O'), ('거래대금', 'O'), ('120만원', 'QT'), ('은', 'O'), ('국민은행', 'OG'), ('123', 'QT'), ('-', 'QT'), ('4567', 'QT'), ('-', 'QT'), ('890', 'O'), ('예금주', 'O'), ('김철수', 'PS'), ('로', 'O'), ('12월', 'DT'), ('15일', 'DT'), ('오후', 'TI'), ('3시', 'TI'), ('전까지', 'TI'), ('송금해주세요', 'O'), ('.', 'O'), ('혹시', 'O'), ('문제가', 'O'), ('있다면', 'O'), ('asdfgh', 'TM'), ('@', 'TM'), ('gmail', 'TM'), ('.', 'TM'), ('com', 'TM'), ('으로', 'O'), ('메일', 'O'), ('보내주세요', 'O'), ('.', 'O'), ('제', 'O'), ('주소는', 'O'), ('서울시', 'LC'), ('성북구', 'LC'), ('보문로', 'LC'), ('12길', 'O'), ('345호입니다', 'O'), ('.', 'O')]\n"
     ]
    }
   ],
   "source": [
    "for n, (t,o) in enumerate(zip(tokens['input_ids'][0].tolist()[1:-1], predictions[0].tolist()[1:-1])):\n",
    "    word = tokenizer.decode(t)\n",
    "    label = model.config.id2label[o][-2:]\n",
    "    if label == prev:\n",
    "        prev_word, prev_label = word_list.pop()\n",
    "        if word[:2] == \"##\":\n",
    "            word_list.append((prev_word+word[2:], prev_label))\n",
    "        else:\n",
    "            word_list.append((prev_word, prev_label))\n",
    "            word_list.append((word, label))\n",
    "    else:\n",
    "        if word[:2] == \"##\":\n",
    "            word_list.append((word[2:], label))\n",
    "        else:\n",
    "            word_list.append((word, label))\n",
    "    prev = label\n",
    "print (word_list)"
   ]
  },
  {
   "cell_type": "code",
   "execution_count": 11,
   "id": "3c9a91d2-6c20-4908-8768-b3a7a46ce666",
   "metadata": {},
   "outputs": [],
   "source": [
    "# O : 일반단어\n",
    "# QT : 수\n",
    "# OG : 기관\n",
    "# PS : 사람\n",
    "# DT : 날짜\n",
    "# TI : 시간"
   ]
  },
  {
   "cell_type": "code",
   "execution_count": 14,
   "id": "56e78d71-7975-4230-9e4a-a8be2d4dfd61",
   "metadata": {},
   "outputs": [
    {
     "name": "stdout",
     "output_type": "stream",
     "text": [
      "유선상으로 말씀하신 거래대금 120만원은 ###OG-0### 123-4567-890 예금주 ###PS-1###로 ###DT-2### ###DT-3### ###TI-4### ###TI-5### ###TI-6### 송금해주세요###TM-10### 혹시 문제가 있다면 ###TM-7######TM-8######TM-9######TM-10######TM-11###으로 메일 보내주세요###TM-10### 제 주소는 ###LC-12### ###LC-13### ###LC-14### 12길 345호입니다###TM-10###\n"
     ]
    }
   ],
   "source": [
    "count = 0\n",
    "masked_sentence = sentence\n",
    "mask2word = {}\n",
    "for word, tag in word_list:\n",
    "    if tag != \"O\" and tag != \"QT\":\n",
    "        mask_token = f\"###{tag}-{count}###\"\n",
    "        masked_sentence = masked_sentence.replace(word, mask_token)\n",
    "        mask2word[mask_token] = word\n",
    "        count += 1\n",
    "print(masked_sentence)"
   ]
  },
  {
   "cell_type": "code",
   "execution_count": 17,
   "id": "5ddb6b38-54db-4e84-b18c-2f6d3b2ecfec",
   "metadata": {},
   "outputs": [
    {
     "name": "stdout",
     "output_type": "stream",
     "text": [
      "유선상으로 말씀하신 거래대금 120만원은 국민은행 123-4567-890 예금주 김철수로 12월 15일 오후 3시 전까지 송금해주세요. 혹시 문제가 있다면 asdfgh@gmail.com으로 메일 보내주세요. 제 주소는 서울시 성북구 보문로 12길 345호입니다.\n"
     ]
    }
   ],
   "source": [
    "for k in mask2word:\n",
    "    masked_sentence = masked_sentence.replace(k, mask2word[k])\n",
    "print(masked_sentence)"
   ]
  },
  {
   "cell_type": "code",
   "execution_count": 16,
   "id": "294c86f2-2358-4d28-838e-8447faea95dc",
   "metadata": {},
   "outputs": [
    {
     "data": {
      "text/plain": [
       "{'###OG-0###': '국민은행',\n",
       " '###PS-1###': '김철수',\n",
       " '###DT-2###': '12월',\n",
       " '###DT-3###': '15일',\n",
       " '###TI-4###': '오후',\n",
       " '###TI-5###': '3시',\n",
       " '###TI-6###': '전까지',\n",
       " '###TM-7###': 'asdfgh',\n",
       " '###TM-8###': '@',\n",
       " '###TM-9###': 'gmail',\n",
       " '###TM-10###': '.',\n",
       " '###TM-11###': 'com',\n",
       " '###LC-12###': '서울시',\n",
       " '###LC-13###': '성북구',\n",
       " '###LC-14###': '보문로'}"
      ]
     },
     "execution_count": 16,
     "metadata": {},
     "output_type": "execute_result"
    }
   ],
   "source": [
    "mask2word"
   ]
  },
  {
   "cell_type": "code",
   "execution_count": 18,
   "id": "1b129855-e87b-4083-872a-e0a3a52e4d2b",
   "metadata": {},
   "outputs": [
    {
     "name": "stdout",
     "output_type": "stream",
     "text": [
      "huggingface/tokenizers: The current process just got forked, after parallelism has already been used. Disabling parallelism to avoid deadlocks...\n",
      "To disable this warning, you can either:\n",
      "\t- Avoid using `tokenizers` before the fork if possible\n",
      "\t- Explicitly set the environment variable TOKENIZERS_PARALLELISM=(true | false)\n",
      "Collecting Faker\n",
      "  Downloading Faker-24.7.1-py3-none-any.whl.metadata (15 kB)\n",
      "Requirement already satisfied: python-dateutil>=2.4 in /opt/conda/lib/python3.10/site-packages (from Faker) (2.8.2)\n",
      "Requirement already satisfied: six>=1.5 in /opt/conda/lib/python3.10/site-packages (from python-dateutil>=2.4->Faker) (1.16.0)\n",
      "Downloading Faker-24.7.1-py3-none-any.whl (1.8 MB)\n",
      "\u001b[2K   \u001b[90m━━━━━━━━━━━━━━━━━━━━━━━━━━━━━━━━━━━━━━━━\u001b[0m \u001b[32m1.8/1.8 MB\u001b[0m \u001b[31m57.2 MB/s\u001b[0m eta \u001b[36m0:00:00\u001b[0m\n",
      "\u001b[?25hInstalling collected packages: Faker\n",
      "Successfully installed Faker-24.7.1\n"
     ]
    }
   ],
   "source": [
    "!pip install Faker"
   ]
  },
  {
   "cell_type": "code",
   "execution_count": 32,
   "id": "dd2dc972-f14b-4a20-963c-3b48085ff8f8",
   "metadata": {},
   "outputs": [
    {
     "name": "stdout",
     "output_type": "stream",
     "text": [
      "이은경\n",
      "서울특별시 동작구 석촌호수084거리\n",
      "22:47:43\n",
      "1985-10-10\n",
      "017-153-2461\n",
      "870620-2951153\n",
      "$0.81\n",
      "{'job': '노점 및 이동 판매원', 'company': '황최김', 'ssn': '830701-2891381', 'residence': '인천광역시 마포구 가락2가 (옥순이마을)', 'current_location': (Decimal('16.435941'), Decimal('-134.719483')), 'blood_group': 'O-', 'website': ['https://simi.kr/', 'http://www.ju.com/'], 'username': 'jia33', 'name': '유민지', 'sex': 'F', 'address': '대전광역시 동작구 서초대1거리', 'mail': 'bagyeongho@gmail.com', 'birthdate': datetime.date(1984, 3, 24)}\n"
     ]
    }
   ],
   "source": [
    "from faker import Faker\n",
    "fake = Faker('ko_KR')\n",
    "print(fake.name())\n",
    "print(fake.address())\n",
    "print(fake.time())\n",
    "print(fake.date())\n",
    "print(fake.phone_number())\n",
    "print(fake.ssn())\n",
    "print(fake.pricetag())\n",
    "print(fake.profile())"
   ]
  },
  {
   "cell_type": "code",
   "execution_count": 29,
   "id": "b1f96667-5274-492f-aca7-e713c676faa9",
   "metadata": {},
   "outputs": [],
   "source": [
    "import random\n",
    "\n",
    "mask2word = {}\n",
    "count = 0\n",
    "masked_sentence = []\n",
    "\n",
    "entity_list = []\n",
    "prev = None\n",
    "for word, tag in word_list:\n",
    "    if tag == prev:\n",
    "        prev_word, prev_label = entity_list.pop()\n",
    "        entity_list.append((prev_word+' '+word, prev_label))\n",
    "    else:\n",
    "        entity_list.append((word, tag))\n",
    "    prev = tag\n",
    "\n",
    "for word, tag in entity_list:\n",
    "    if tag == \"O\":\n",
    "        masked_sentence.append(word)\n",
    "    else:\n",
    "        if tag == \"QT\":\n",
    "            if word[-1] == \"원\":\n",
    "                mask_token = fake.pricetag()\n",
    "            else:\n",
    "                mask_token = \"\".join([str(random.randint(0,9)) for _ in word])\n",
    "        elif tag == \"OG\":\n",
    "            if word[-2:] == \"은행\":\n",
    "                mask_token = fake.company() + \"은행\"\n",
    "        elif tag == \"PS\":\n",
    "            mask_token = fake.name()\n",
    "        elif tag == \"DT\":\n",
    "            mask_token = fake.date()\n",
    "        elif tag == \"TI\":\n",
    "            mask_token = fake.time()\n",
    "        elif tag == \"TM\":\n",
    "            if \"@\" in word:\n",
    "                mask_token = fake.profile()['mail']\n",
    "        elif tag[:3] == \"LC\":\n",
    "            mask_token = fake.city()\n",
    "\n",
    "        mask2word[mask_token] = word\n",
    "        masked_sentence.append(mask_token)\n",
    "        count +=1\n"
   ]
  },
  {
   "cell_type": "code",
   "execution_count": 30,
   "id": "eaacc8f6-abe7-423a-924e-d9a7052bee18",
   "metadata": {},
   "outputs": [
    {
     "name": "stdout",
     "output_type": "stream",
     "text": [
      "['유선상으로 말씀하신 거래대금', '$698.45', '은', '정박은행', '042017062752', '890 예금주', '안상훈', '로', '2017-07-01', '13:16:14', '송금해주세요 . 혹시 문제가 있다면', 'yeeun28@live.com', '으로 메일 보내주세요 . 제 주소는', '연천군', '12길 345호입니다 .']\n"
     ]
    }
   ],
   "source": [
    "print(masked_sentence)"
   ]
  },
  {
   "cell_type": "code",
   "execution_count": null,
   "id": "b6fcf17b-6439-4e0d-9002-82f1a224667d",
   "metadata": {},
   "outputs": [],
   "source": []
  }
 ],
 "metadata": {
  "kernelspec": {
   "display_name": "Python 3 (ipykernel)",
   "language": "python",
   "name": "python3"
  },
  "language_info": {
   "codemirror_mode": {
    "name": "ipython",
    "version": 3
   },
   "file_extension": ".py",
   "mimetype": "text/x-python",
   "name": "python",
   "nbconvert_exporter": "python",
   "pygments_lexer": "ipython3",
   "version": "3.10.13"
  }
 },
 "nbformat": 4,
 "nbformat_minor": 5
}
