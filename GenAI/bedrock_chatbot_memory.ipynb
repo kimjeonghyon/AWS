{
 "cells": [
  {
   "cell_type": "markdown",
   "id": "83cd520b-23e3-439c-8402-3d20727d3b20",
   "metadata": {},
   "source": [
    "### Bedrock LLM 연결\n",
    "- [langchain package 구조](https://python.langchain.com/docs/versions/v0_3/)\n",
    "- [aws integration](https://python.langchain.com/docs/integrations/providers/aws/)"
   ]
  },
  {
   "cell_type": "code",
   "execution_count": 20,
   "id": "553fa97a-d923-4d81-b758-5940fd6f5123",
   "metadata": {},
   "outputs": [],
   "source": [
    "from langchain_aws import ChatBedrock\n",
    "import boto3\n",
    "\n",
    "bedrock_runtime = boto3.client(\n",
    "    service_name=\"bedrock-runtime\",\n",
    "    region_name=\"us-east-1\" \n",
    ")\n",
    "\n",
    "claude_3_client = ChatBedrock(\n",
    "    client=bedrock_runtime,\n",
    "    model_id=\"anthropic.claude-3-haiku-20240307-v1:0\",\n",
    "    model_kwargs= { \n",
    "    \"max_tokens\": 512,\n",
    "    \"temperature\": 0.0,\n",
    "},\n",
    ")"
   ]
  },
  {
   "cell_type": "markdown",
   "id": "d13ad5f2-4b91-4978-90ca-0ea39d2d94f7",
   "metadata": {},
   "source": [
    "### 챗봇 히스토리 관리 - langchain 0.1 방식"
   ]
  },
  {
   "cell_type": "code",
   "execution_count": 21,
   "id": "547aefa1",
   "metadata": {
    "tags": []
   },
   "outputs": [],
   "source": [
    "from langchain import LLMChain\n",
    "from langchain.prompts.prompt import PromptTemplate\n",
    "from langchain.memory import ConversationBufferMemory\n",
    "from langchain_community.chat_message_histories import ChatMessageHistory\n",
    "\n",
    "template = \"\"\"\n",
    "Instruction: 당신은 Question-Answering 챗봇입니다. 주어진 질문에 대한 답변을 제공해주세요.\n",
    "{chat_history}\n",
    "Human: {human_input}\n",
    "Chatbot:\"\"\"\n",
    "\n",
    "prompt = PromptTemplate(\n",
    "    input_variables=[\"chat_history\", \"human_input\"], \n",
    "    template=template\n",
    ")\n",
    "memory = ConversationBufferMemory(memory_key=\"chat_history\")"
   ]
  },
  {
   "cell_type": "code",
   "execution_count": 22,
   "id": "475822a0",
   "metadata": {
    "tags": []
   },
   "outputs": [],
   "source": [
    "llm_chain = LLMChain(\n",
    "    llm = claude_3_client, \n",
    "    prompt=prompt, \n",
    "    verbose=True, \n",
    "    memory=memory\n",
    ")"
   ]
  },
  {
   "cell_type": "code",
   "execution_count": 23,
   "id": "20ae6e3d",
   "metadata": {
    "tags": []
   },
   "outputs": [
    {
     "name": "stdout",
     "output_type": "stream",
     "text": [
      "\n",
      "\n",
      "\u001b[1m> Entering new LLMChain chain...\u001b[0m\n",
      "Prompt after formatting:\n",
      "\u001b[32;1m\u001b[1;3m\n",
      "Instruction: 당신은 Question-Answering 챗봇입니다. 주어진 질문에 대한 답변을 제공해주세요.\n",
      "\n",
      "Human: 나의 이름은 제이슨 입니다.\n",
      "Chatbot:\u001b[0m\n",
      "\n",
      "\u001b[1m> Finished chain.\u001b[0m\n"
     ]
    },
    {
     "data": {
      "text/plain": [
       "'안녕하세요 제이슨님. 반갑습니다. 제가 도와드릴 수 있는 것이 있다면 언제든 말씀해 주세요.'"
      ]
     },
     "execution_count": 23,
     "metadata": {},
     "output_type": "execute_result"
    }
   ],
   "source": [
    "llm_chain.predict(human_input=\"나의 이름은 제이슨 입니다.\")"
   ]
  },
  {
   "cell_type": "code",
   "execution_count": 24,
   "id": "bd87e2a9",
   "metadata": {
    "tags": []
   },
   "outputs": [
    {
     "name": "stdout",
     "output_type": "stream",
     "text": [
      "\n",
      "\n",
      "\u001b[1m> Entering new LLMChain chain...\u001b[0m\n",
      "Prompt after formatting:\n",
      "\u001b[32;1m\u001b[1;3m\n",
      "Instruction: 당신은 Question-Answering 챗봇입니다. 주어진 질문에 대한 답변을 제공해주세요.\n",
      "Human: 나의 이름은 제이슨 입니다.\n",
      "AI: 안녕하세요 제이슨님. 반갑습니다. 제가 도와드릴 수 있는 것이 있다면 언제든 말씀해 주세요.\n",
      "Human: 내이름이 뭐라고?\n",
      "Chatbot:\u001b[0m\n",
      "\n",
      "\u001b[1m> Finished chain.\u001b[0m\n"
     ]
    },
    {
     "data": {
      "text/plain": [
       "'네, 제가 방금 말씀드린 것처럼 당신의 이름은 제이슨입니다. 제가 잘못 기억하고 있나요?'"
      ]
     },
     "execution_count": 24,
     "metadata": {},
     "output_type": "execute_result"
    }
   ],
   "source": [
    "llm_chain.predict(human_input=\"내이름이 뭐라고?\")"
   ]
  },
  {
   "cell_type": "code",
   "execution_count": 25,
   "id": "b8d49bb8-1d16-4dd1-af30-9d207c996f4a",
   "metadata": {},
   "outputs": [
    {
     "data": {
      "text/plain": [
       "{'chat_history': 'Human: 나의 이름은 제이슨 입니다.\\nAI: 안녕하세요 제이슨님. 반갑습니다. 제가 도와드릴 수 있는 것이 있다면 언제든 말씀해 주세요.\\nHuman: 내이름이 뭐라고?\\nAI: 네, 제가 방금 말씀드린 것처럼 당신의 이름은 제이슨입니다. 제가 잘못 기억하고 있나요?'}"
      ]
     },
     "execution_count": 25,
     "metadata": {},
     "output_type": "execute_result"
    }
   ],
   "source": [
    "memory.load_memory_variables({})"
   ]
  },
  {
   "cell_type": "markdown",
   "id": "8b49b8b3-007b-4ec8-a620-cd9d85764238",
   "metadata": {},
   "source": [
    "### 챗봇 히스토리 관리 - langchain 0.2 부터는...다른 방식\n",
    "\n",
    "* Why? 기존 방식의 한계, LLMChain, ConversationChain 등 필요한 Chain을 랭체인에서 만들어서 제공하는 것은 한계가 있다.\n",
    "* 정형화 되어 커스터마이즈 불가,채팅 서버에서 세션별로 대화내용을 기억하고 싶다면, 랭체인에서 또 Chain 클래스를 만들어서 제공할까?? 귀찮다. 안한다.\n",
    "* 0.2 부터는 RunnableSequence 를 사용해 필요한 기능을 함수로 커스터마이징 가능하게 제공한다."
   ]
  },
  {
   "cell_type": "code",
   "execution_count": 26,
   "id": "48f74e4d-d48e-4748-a2af-95b2c7b1adb6",
   "metadata": {},
   "outputs": [],
   "source": [
    "from langchain_core.output_parsers import StrOutputParser\n",
    "from langchain_core.runnables.history import RunnableWithMessageHistory\n",
    "from langchain_community.chat_message_histories import ChatMessageHistory\n",
    "\n",
    "store = {}\n",
    "def get_session_history(session_id):\n",
    "    print(f\"[대화 세션ID]: {session_id}\")\n",
    "    if session_id not in store:  \n",
    "        store[session_id] = ChatMessageHistory()\n",
    "    return store[session_id]  \n",
    "    \n",
    "chat_with_history = RunnableWithMessageHistory(\n",
    "    runnable=prompt | claude_3_client | StrOutputParser(),\n",
    "    get_session_history=get_session_history,  \n",
    "    input_messages_key=\"human_input\",  \n",
    "    history_messages_key=\"chat_history\", \n",
    ")"
   ]
  },
  {
   "cell_type": "code",
   "execution_count": 27,
   "id": "2302197b-677f-4db9-8454-ef2243fc6389",
   "metadata": {},
   "outputs": [
    {
     "name": "stdout",
     "output_type": "stream",
     "text": [
      "[대화 세션ID]: abc123\n"
     ]
    },
    {
     "data": {
      "text/plain": [
       "'안녕하세요 제이슨님, 반갑습니다. 제가 당신의 질문에 대한 답변을 제공해 드리겠습니다. 어떤 질문이 있으신가요?'"
      ]
     },
     "execution_count": 27,
     "metadata": {},
     "output_type": "execute_result"
    }
   ],
   "source": [
    "chat_with_history.invoke(\n",
    "    {\"human_input\": \"나의 이름은 제이슨 입니다.\"},\n",
    "    config={\"configurable\": {\"session_id\": \"abc123\"}},\n",
    ")"
   ]
  },
  {
   "cell_type": "code",
   "execution_count": 28,
   "id": "2f6e30ae-666e-4bd3-80de-798c6c15fb80",
   "metadata": {},
   "outputs": [
    {
     "name": "stdout",
     "output_type": "stream",
     "text": [
      "[대화 세션ID]: abc123\n"
     ]
    },
    {
     "data": {
      "text/plain": [
       "'네, 제가 방금 말씀드린 것처럼 당신의 이름은 제이슨입니다. 이를 기억하고 있습니다.'"
      ]
     },
     "execution_count": 28,
     "metadata": {},
     "output_type": "execute_result"
    }
   ],
   "source": [
    "chat_with_history.invoke(\n",
    "    {\"human_input\": \"내이름이 뭐라고?\"},\n",
    "    config={\"configurable\": {\"session_id\": \"abc123\"}},\n",
    ")\n"
   ]
  },
  {
   "cell_type": "code",
   "execution_count": 29,
   "id": "9e024961-d94b-4c7b-b8db-4adce2f2d080",
   "metadata": {},
   "outputs": [
    {
     "name": "stdout",
     "output_type": "stream",
     "text": [
      "[대화 세션ID]: abc1234\n"
     ]
    },
    {
     "data": {
      "text/plain": [
       "'죄송합니다. 제가 당신의 이름을 알 수 있는 정보가 없습니다. 제가 당신의 이름을 알려드릴 수 없습니다. 대신 제가 도와드릴 수 있는 다른 방법이 있다면 말씀해 주시기 바랍니다.'"
      ]
     },
     "execution_count": 29,
     "metadata": {},
     "output_type": "execute_result"
    }
   ],
   "source": [
    "chat_with_history.invoke(\n",
    "    {\"human_input\": \"내이름이 뭐라고?\"},\n",
    "    config={\"configurable\": {\"session_id\": \"abc1234\"}},\n",
    ")"
   ]
  },
  {
   "cell_type": "code",
   "execution_count": 30,
   "id": "34fd380b-f8cb-40f7-b1b8-af04da8e09a5",
   "metadata": {},
   "outputs": [
    {
     "data": {
      "text/plain": [
       "{'abc123': InMemoryChatMessageHistory(messages=[HumanMessage(content='나의 이름은 제이슨 입니다.'), AIMessage(content='안녕하세요 제이슨님, 반갑습니다. 제가 당신의 질문에 대한 답변을 제공해 드리겠습니다. 어떤 질문이 있으신가요?'), HumanMessage(content='내이름이 뭐라고?'), AIMessage(content='네, 제가 방금 말씀드린 것처럼 당신의 이름은 제이슨입니다. 이를 기억하고 있습니다.')]),\n",
       " 'abc1234': InMemoryChatMessageHistory(messages=[HumanMessage(content='내이름이 뭐라고?'), AIMessage(content='죄송합니다. 제가 당신의 이름을 알 수 있는 정보가 없습니다. 제가 당신의 이름을 알려드릴 수 없습니다. 대신 제가 도와드릴 수 있는 다른 방법이 있다면 말씀해 주시기 바랍니다.')])}"
      ]
     },
     "execution_count": 30,
     "metadata": {},
     "output_type": "execute_result"
    }
   ],
   "source": [
    "store"
   ]
  },
  {
   "cell_type": "code",
   "execution_count": null,
   "id": "b8cf588d-0ad7-4c53-b0f1-60333db74300",
   "metadata": {},
   "outputs": [],
   "source": []
  },
  {
   "cell_type": "code",
   "execution_count": null,
   "id": "9eba17ac-1fa3-4047-8c09-5da7efd2b839",
   "metadata": {},
   "outputs": [],
   "source": []
  }
 ],
 "metadata": {
  "kernelspec": {
   "display_name": "Python 3 (ipykernel)",
   "language": "python",
   "name": "python3"
  },
  "language_info": {
   "codemirror_mode": {
    "name": "ipython",
    "version": 3
   },
   "file_extension": ".py",
   "mimetype": "text/x-python",
   "name": "python",
   "nbconvert_exporter": "python",
   "pygments_lexer": "ipython3",
   "version": "3.11.9"
  }
 },
 "nbformat": 4,
 "nbformat_minor": 5
}
