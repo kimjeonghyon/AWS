{
 "cells": [
  {
   "cell_type": "code",
   "execution_count": 8,
   "id": "d2223431-71df-46c9-bbb9-974b4eb3104a",
   "metadata": {},
   "outputs": [],
   "source": [
    "import boto3\n",
    "from langchain_community.chat_models import BedrockChat\n",
    "from langchain.memory import ConversationBufferMemory\n",
    "from langchain.chains import ConversationChain\n",
    "from langchain.schema import HumanMessage\n",
    "\n",
    "bedrock_runtime = boto3.client(service_name=\"bedrock-runtime\",\n",
    "                               region_name=\"us-east-1\")\n",
    "\n",
    "# Amazon Bedrock의 claude 3 Sonnet 1.0 모델을 지정\n",
    "chat = BedrockChat(model_id=\"anthropic.claude-3-sonnet-20240229-v1:0\", client=bedrock_runtime, credentials_profile_name='default')\n",
    " \n",
    "# claude 3 모델의 파라미터 설정\n",
    "chat.model_kwargs = {\n",
    "    \"temperature\": 0.5,\n",
    "    \"max_tokens\": 200\n",
    "}\n"
   ]
  },
  {
   "cell_type": "code",
   "execution_count": 9,
   "id": "98892726-31a9-4dc9-bd05-070bcdf71aaa",
   "metadata": {},
   "outputs": [],
   "source": [
    "# 대화 기억을 위해 메모리공간 개설. \n",
    "# return_message를 True로 해야 langchain에서 사용하는 형태로 메세지를 자동 포맷팅 한다. \n",
    "memory = ConversationBufferMemory(return_messages=True)"
   ]
  },
  {
   "cell_type": "code",
   "execution_count": 10,
   "id": "90cfb8b9-351a-4117-b31c-0276c36f244d",
   "metadata": {},
   "outputs": [],
   "source": [
    "chain = ConversationChain(memory=memory, llm=chat,)"
   ]
  },
  {
   "cell_type": "code",
   "execution_count": 11,
   "id": "af169440-4a4c-400a-b57b-b24be7e4b83f",
   "metadata": {
    "scrolled": true
   },
   "outputs": [],
   "source": [
    "result = chain([HumanMessage(content=\"삼체 소설의 의미하는 바는 무엇일까요?\"),])\n"
   ]
  },
  {
   "cell_type": "code",
   "execution_count": 12,
   "id": "f0a92a8e-5a1d-41d0-a833-10084a830e97",
   "metadata": {},
   "outputs": [
    {
     "name": "stdout",
     "output_type": "stream",
     "text": [
      "{'input': [HumanMessage(content='삼체 소설의 의미하는 바는 무엇일까요?')], 'history': [HumanMessage(content=[{'content': '삼체 소설의 의미하는 바는 무엇일까요?', 'additional_kwargs': {}, 'response_metadata': {}, 'type': 'human', 'name': None, 'id': None, 'example': False}]), AIMessage(content='삼체소설은 중국 고전 문학 장르 중 하나로, 세 명의 주인공을 중심으로 이야기가 전개되는 작품을 말합니다. 삼체소설의 의미는 다음과 같이 해석할 수 있습니다.\\n\\n1. 인간 삼재(三才) 상징\\n삼체는 천지인(天地人), 즉 하늘과 땅, 그리고 인간을 상징합니다. 세 주인공은 이 세계를 이루는 세 가지 근본 요소를 대변하고 있습니다.\\n\\n2. 관계의 중요성')], 'response': '삼체소설은 중국 고전 문학 장르 중 하나로, 세 명의 주인공을 중심으로 이야기가 전개되는 작품을 말합니다. 삼체소설의 의미는 다음과 같이 해석할 수 있습니다.\\n\\n1. 인간 삼재(三才) 상징\\n삼체는 천지인(天地人), 즉 하늘과 땅, 그리고 인간을 상징합니다. 세 주인공은 이 세계를 이루는 세 가지 근본 요소를 대변하고 있습니다.\\n\\n2. 관계의 중요성'}\n"
     ]
    }
   ],
   "source": [
    "print(result)"
   ]
  },
  {
   "cell_type": "code",
   "execution_count": 13,
   "id": "0b3a274c-fa50-4579-a75f-e576f0c39f62",
   "metadata": {},
   "outputs": [
    {
     "name": "stdout",
     "output_type": "stream",
     "text": [
      "{'input': [HumanMessage(content='영어로 번역해 주세요')], 'history': [HumanMessage(content=[{'content': '삼체 소설의 의미하는 바는 무엇일까요?', 'additional_kwargs': {}, 'response_metadata': {}, 'type': 'human', 'name': None, 'id': None, 'example': False}]), AIMessage(content='삼체소설은 중국 고전 문학 장르 중 하나로, 세 명의 주인공을 중심으로 이야기가 전개되는 작품을 말합니다. 삼체소설의 의미는 다음과 같이 해석할 수 있습니다.\\n\\n1. 인간 삼재(三才) 상징\\n삼체는 천지인(天地人), 즉 하늘과 땅, 그리고 인간을 상징합니다. 세 주인공은 이 세계를 이루는 세 가지 근본 요소를 대변하고 있습니다.\\n\\n2. 관계의 중요성'), HumanMessage(content=[{'content': '영어로 번역해 주세요', 'additional_kwargs': {}, 'response_metadata': {}, 'type': 'human', 'name': None, 'id': None, 'example': False}]), AIMessage(content='Here is the translation of the previous message into English:\\n\\nThe Three Unities novel refers to a genre of classical Chinese literature in which the story unfolds around three main characters. The meaning of the Three Unities novel can be interpreted as follows:\\n\\n1. Symbolism of the Three Powers (Heaven, Earth, and Human)\\nThe \"three unities\" symbolize the three fundamental elements that make up the world: Heaven, Earth, and Human. The three main characters represent these three essential components.\\n\\n2. The Importance of Relationships\\nThe three main characters and their relationships symbolize the importance of the relationships and interconnectedness between the three powers of Heaven, Earth, and Humanity.')], 'response': 'Here is the translation of the previous message into English:\\n\\nThe Three Unities novel refers to a genre of classical Chinese literature in which the story unfolds around three main characters. The meaning of the Three Unities novel can be interpreted as follows:\\n\\n1. Symbolism of the Three Powers (Heaven, Earth, and Human)\\nThe \"three unities\" symbolize the three fundamental elements that make up the world: Heaven, Earth, and Human. The three main characters represent these three essential components.\\n\\n2. The Importance of Relationships\\nThe three main characters and their relationships symbolize the importance of the relationships and interconnectedness between the three powers of Heaven, Earth, and Humanity.'}\n"
     ]
    }
   ],
   "source": [
    "result = chain([HumanMessage(content=\"영어로 번역해 주세요\"),])\n",
    "print(result)"
   ]
  },
  {
   "cell_type": "code",
   "execution_count": null,
   "id": "85774c9d-bf14-4645-a272-0b692b95f847",
   "metadata": {},
   "outputs": [],
   "source": []
  }
 ],
 "metadata": {
  "kernelspec": {
   "display_name": "Python 3 (ipykernel)",
   "language": "python",
   "name": "python3"
  },
  "language_info": {
   "codemirror_mode": {
    "name": "ipython",
    "version": 3
   },
   "file_extension": ".py",
   "mimetype": "text/x-python",
   "name": "python",
   "nbconvert_exporter": "python",
   "pygments_lexer": "ipython3",
   "version": "3.10.14"
  }
 },
 "nbformat": 4,
 "nbformat_minor": 5
}
