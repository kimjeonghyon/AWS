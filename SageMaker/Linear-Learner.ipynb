{
 "cells": [
  {
   "cell_type": "code",
   "execution_count": 1,
   "id": "0e425ab0-c4dc-4f79-9165-d2156ae5d9c8",
   "metadata": {},
   "outputs": [
    {
     "data": {
      "text/html": [
       "<div>\n",
       "<style scoped>\n",
       "    .dataframe tbody tr th:only-of-type {\n",
       "        vertical-align: middle;\n",
       "    }\n",
       "\n",
       "    .dataframe tbody tr th {\n",
       "        vertical-align: top;\n",
       "    }\n",
       "\n",
       "    .dataframe thead th {\n",
       "        text-align: right;\n",
       "    }\n",
       "</style>\n",
       "<table border=\"1\" class=\"dataframe\">\n",
       "  <thead>\n",
       "    <tr style=\"text-align: right;\">\n",
       "      <th></th>\n",
       "      <th>crim</th>\n",
       "      <th>zn</th>\n",
       "      <th>indus</th>\n",
       "      <th>chas</th>\n",
       "      <th>nox</th>\n",
       "      <th>rm</th>\n",
       "      <th>age</th>\n",
       "      <th>dis</th>\n",
       "      <th>rad</th>\n",
       "      <th>tax</th>\n",
       "      <th>ptratio</th>\n",
       "      <th>b</th>\n",
       "      <th>lstat</th>\n",
       "      <th>medv</th>\n",
       "    </tr>\n",
       "  </thead>\n",
       "  <tbody>\n",
       "    <tr>\n",
       "      <th>0</th>\n",
       "      <td>0.00632</td>\n",
       "      <td>18.0</td>\n",
       "      <td>2.31</td>\n",
       "      <td>0</td>\n",
       "      <td>0.538</td>\n",
       "      <td>6.575</td>\n",
       "      <td>65.2</td>\n",
       "      <td>4.0900</td>\n",
       "      <td>1</td>\n",
       "      <td>296</td>\n",
       "      <td>15.3</td>\n",
       "      <td>396.90</td>\n",
       "      <td>4.98</td>\n",
       "      <td>24.0</td>\n",
       "    </tr>\n",
       "    <tr>\n",
       "      <th>1</th>\n",
       "      <td>0.02731</td>\n",
       "      <td>0.0</td>\n",
       "      <td>7.07</td>\n",
       "      <td>0</td>\n",
       "      <td>0.469</td>\n",
       "      <td>6.421</td>\n",
       "      <td>78.9</td>\n",
       "      <td>4.9671</td>\n",
       "      <td>2</td>\n",
       "      <td>242</td>\n",
       "      <td>17.8</td>\n",
       "      <td>396.90</td>\n",
       "      <td>9.14</td>\n",
       "      <td>21.6</td>\n",
       "    </tr>\n",
       "    <tr>\n",
       "      <th>2</th>\n",
       "      <td>0.02729</td>\n",
       "      <td>0.0</td>\n",
       "      <td>7.07</td>\n",
       "      <td>0</td>\n",
       "      <td>0.469</td>\n",
       "      <td>7.185</td>\n",
       "      <td>61.1</td>\n",
       "      <td>4.9671</td>\n",
       "      <td>2</td>\n",
       "      <td>242</td>\n",
       "      <td>17.8</td>\n",
       "      <td>392.83</td>\n",
       "      <td>4.03</td>\n",
       "      <td>34.7</td>\n",
       "    </tr>\n",
       "    <tr>\n",
       "      <th>3</th>\n",
       "      <td>0.03237</td>\n",
       "      <td>0.0</td>\n",
       "      <td>2.18</td>\n",
       "      <td>0</td>\n",
       "      <td>0.458</td>\n",
       "      <td>6.998</td>\n",
       "      <td>45.8</td>\n",
       "      <td>6.0622</td>\n",
       "      <td>3</td>\n",
       "      <td>222</td>\n",
       "      <td>18.7</td>\n",
       "      <td>394.63</td>\n",
       "      <td>2.94</td>\n",
       "      <td>33.4</td>\n",
       "    </tr>\n",
       "    <tr>\n",
       "      <th>4</th>\n",
       "      <td>0.06905</td>\n",
       "      <td>0.0</td>\n",
       "      <td>2.18</td>\n",
       "      <td>0</td>\n",
       "      <td>0.458</td>\n",
       "      <td>7.147</td>\n",
       "      <td>54.2</td>\n",
       "      <td>6.0622</td>\n",
       "      <td>3</td>\n",
       "      <td>222</td>\n",
       "      <td>18.7</td>\n",
       "      <td>396.90</td>\n",
       "      <td>5.33</td>\n",
       "      <td>36.2</td>\n",
       "    </tr>\n",
       "  </tbody>\n",
       "</table>\n",
       "</div>"
      ],
      "text/plain": [
       "      crim    zn  indus  chas    nox     rm   age     dis  rad  tax  ptratio  \\\n",
       "0  0.00632  18.0   2.31     0  0.538  6.575  65.2  4.0900    1  296     15.3   \n",
       "1  0.02731   0.0   7.07     0  0.469  6.421  78.9  4.9671    2  242     17.8   \n",
       "2  0.02729   0.0   7.07     0  0.469  7.185  61.1  4.9671    2  242     17.8   \n",
       "3  0.03237   0.0   2.18     0  0.458  6.998  45.8  6.0622    3  222     18.7   \n",
       "4  0.06905   0.0   2.18     0  0.458  7.147  54.2  6.0622    3  222     18.7   \n",
       "\n",
       "        b  lstat  medv  \n",
       "0  396.90   4.98  24.0  \n",
       "1  396.90   9.14  21.6  \n",
       "2  392.83   4.03  34.7  \n",
       "3  394.63   2.94  33.4  \n",
       "4  396.90   5.33  36.2  "
      ]
     },
     "execution_count": 1,
     "metadata": {},
     "output_type": "execute_result"
    }
   ],
   "source": [
    "#Data Source: https://www.kaggle.com/datasets/arunjangir245/boston-housing-dataset\n",
    "import pandas as pd\n",
    "import numpy as np\n",
    "import seaborn as sns \n",
    "#!pip install seaborn\n",
    "import matplotlib.pyplot as plt\n",
    "\n",
    "df = pd.read_csv('BostonHousing.csv')\n",
    "df.head()"
   ]
  },
  {
   "cell_type": "code",
   "execution_count": 2,
   "id": "1edddd30-ea25-4e78-a3d4-ff54798d27b0",
   "metadata": {},
   "outputs": [
    {
     "name": "stdout",
     "output_type": "stream",
     "text": [
      "<class 'pandas.core.frame.DataFrame'>\n",
      "RangeIndex: 506 entries, 0 to 505\n",
      "Data columns (total 14 columns):\n",
      " #   Column   Non-Null Count  Dtype  \n",
      "---  ------   --------------  -----  \n",
      " 0   crim     506 non-null    float64\n",
      " 1   zn       506 non-null    float64\n",
      " 2   indus    506 non-null    float64\n",
      " 3   chas     506 non-null    int64  \n",
      " 4   nox      506 non-null    float64\n",
      " 5   rm       501 non-null    float64\n",
      " 6   age      506 non-null    float64\n",
      " 7   dis      506 non-null    float64\n",
      " 8   rad      506 non-null    int64  \n",
      " 9   tax      506 non-null    int64  \n",
      " 10  ptratio  506 non-null    float64\n",
      " 11  b        506 non-null    float64\n",
      " 12  lstat    506 non-null    float64\n",
      " 13  medv     506 non-null    float64\n",
      "dtypes: float64(11), int64(3)\n",
      "memory usage: 55.5 KB\n"
     ]
    }
   ],
   "source": [
    "df.info()"
   ]
  },
  {
   "cell_type": "code",
   "execution_count": 3,
   "id": "9a3e524e-c964-4c33-bbf6-a4238399bc50",
   "metadata": {},
   "outputs": [
    {
     "data": {
      "text/plain": [
       "crim       0\n",
       "zn         0\n",
       "indus      0\n",
       "chas       0\n",
       "nox        0\n",
       "rm         5\n",
       "age        0\n",
       "dis        0\n",
       "rad        0\n",
       "tax        0\n",
       "ptratio    0\n",
       "b          0\n",
       "lstat      0\n",
       "medv       0\n",
       "dtype: int64"
      ]
     },
     "execution_count": 3,
     "metadata": {},
     "output_type": "execute_result"
    }
   ],
   "source": [
    "#Checking for missing values\n",
    "df.isnull().sum()"
   ]
  },
  {
   "cell_type": "code",
   "execution_count": 7,
   "id": "c23aa81b-107c-4eae-983b-c5cdc3e7e394",
   "metadata": {},
   "outputs": [
    {
     "data": {
      "text/plain": [
       "crim       0\n",
       "zn         0\n",
       "indus      0\n",
       "chas       0\n",
       "nox        0\n",
       "rm         0\n",
       "age        0\n",
       "dis        0\n",
       "rad        0\n",
       "tax        0\n",
       "ptratio    0\n",
       "b          0\n",
       "lstat      0\n",
       "medv       0\n",
       "dtype: int64"
      ]
     },
     "execution_count": 7,
     "metadata": {},
     "output_type": "execute_result"
    }
   ],
   "source": [
    "df['rm']=df['rm'].fillna(df['rm'].mean())\n",
    "df.isnull().sum()"
   ]
  },
  {
   "cell_type": "code",
   "execution_count": 8,
   "id": "66a9e3d5-0cbd-4061-861a-20a55f0ab05a",
   "metadata": {},
   "outputs": [
    {
     "data": {
      "text/html": [
       "<div>\n",
       "<style scoped>\n",
       "    .dataframe tbody tr th:only-of-type {\n",
       "        vertical-align: middle;\n",
       "    }\n",
       "\n",
       "    .dataframe tbody tr th {\n",
       "        vertical-align: top;\n",
       "    }\n",
       "\n",
       "    .dataframe thead th {\n",
       "        text-align: right;\n",
       "    }\n",
       "</style>\n",
       "<table border=\"1\" class=\"dataframe\">\n",
       "  <thead>\n",
       "    <tr style=\"text-align: right;\">\n",
       "      <th></th>\n",
       "      <th>crim</th>\n",
       "      <th>zn</th>\n",
       "      <th>indus</th>\n",
       "      <th>chas</th>\n",
       "      <th>nox</th>\n",
       "      <th>rm</th>\n",
       "      <th>age</th>\n",
       "      <th>dis</th>\n",
       "      <th>rad</th>\n",
       "      <th>tax</th>\n",
       "      <th>ptratio</th>\n",
       "      <th>b</th>\n",
       "      <th>lstat</th>\n",
       "      <th>medv</th>\n",
       "    </tr>\n",
       "  </thead>\n",
       "  <tbody>\n",
       "    <tr>\n",
       "      <th>count</th>\n",
       "      <td>506.000000</td>\n",
       "      <td>506.000000</td>\n",
       "      <td>506.000000</td>\n",
       "      <td>506.000000</td>\n",
       "      <td>506.000000</td>\n",
       "      <td>506.000000</td>\n",
       "      <td>506.000000</td>\n",
       "      <td>506.000000</td>\n",
       "      <td>506.000000</td>\n",
       "      <td>506.000000</td>\n",
       "      <td>506.000000</td>\n",
       "      <td>506.000000</td>\n",
       "      <td>506.000000</td>\n",
       "      <td>506.000000</td>\n",
       "    </tr>\n",
       "    <tr>\n",
       "      <th>mean</th>\n",
       "      <td>3.613524</td>\n",
       "      <td>11.363636</td>\n",
       "      <td>11.136779</td>\n",
       "      <td>0.069170</td>\n",
       "      <td>0.554695</td>\n",
       "      <td>6.284341</td>\n",
       "      <td>68.574901</td>\n",
       "      <td>3.795043</td>\n",
       "      <td>9.549407</td>\n",
       "      <td>408.237154</td>\n",
       "      <td>18.455534</td>\n",
       "      <td>356.674032</td>\n",
       "      <td>12.653063</td>\n",
       "      <td>22.532806</td>\n",
       "    </tr>\n",
       "    <tr>\n",
       "      <th>std</th>\n",
       "      <td>8.601545</td>\n",
       "      <td>23.322453</td>\n",
       "      <td>6.860353</td>\n",
       "      <td>0.253994</td>\n",
       "      <td>0.115878</td>\n",
       "      <td>0.702085</td>\n",
       "      <td>28.148861</td>\n",
       "      <td>2.105710</td>\n",
       "      <td>8.707259</td>\n",
       "      <td>168.537116</td>\n",
       "      <td>2.164946</td>\n",
       "      <td>91.294864</td>\n",
       "      <td>7.141062</td>\n",
       "      <td>9.197104</td>\n",
       "    </tr>\n",
       "    <tr>\n",
       "      <th>min</th>\n",
       "      <td>0.006320</td>\n",
       "      <td>0.000000</td>\n",
       "      <td>0.460000</td>\n",
       "      <td>0.000000</td>\n",
       "      <td>0.385000</td>\n",
       "      <td>3.561000</td>\n",
       "      <td>2.900000</td>\n",
       "      <td>1.129600</td>\n",
       "      <td>1.000000</td>\n",
       "      <td>187.000000</td>\n",
       "      <td>12.600000</td>\n",
       "      <td>0.320000</td>\n",
       "      <td>1.730000</td>\n",
       "      <td>5.000000</td>\n",
       "    </tr>\n",
       "    <tr>\n",
       "      <th>25%</th>\n",
       "      <td>0.082045</td>\n",
       "      <td>0.000000</td>\n",
       "      <td>5.190000</td>\n",
       "      <td>0.000000</td>\n",
       "      <td>0.449000</td>\n",
       "      <td>5.885500</td>\n",
       "      <td>45.025000</td>\n",
       "      <td>2.100175</td>\n",
       "      <td>4.000000</td>\n",
       "      <td>279.000000</td>\n",
       "      <td>17.400000</td>\n",
       "      <td>375.377500</td>\n",
       "      <td>6.950000</td>\n",
       "      <td>17.025000</td>\n",
       "    </tr>\n",
       "    <tr>\n",
       "      <th>50%</th>\n",
       "      <td>0.256510</td>\n",
       "      <td>0.000000</td>\n",
       "      <td>9.690000</td>\n",
       "      <td>0.000000</td>\n",
       "      <td>0.538000</td>\n",
       "      <td>6.210000</td>\n",
       "      <td>77.500000</td>\n",
       "      <td>3.207450</td>\n",
       "      <td>5.000000</td>\n",
       "      <td>330.000000</td>\n",
       "      <td>19.050000</td>\n",
       "      <td>391.440000</td>\n",
       "      <td>11.360000</td>\n",
       "      <td>21.200000</td>\n",
       "    </tr>\n",
       "    <tr>\n",
       "      <th>75%</th>\n",
       "      <td>3.677083</td>\n",
       "      <td>12.500000</td>\n",
       "      <td>18.100000</td>\n",
       "      <td>0.000000</td>\n",
       "      <td>0.624000</td>\n",
       "      <td>6.618750</td>\n",
       "      <td>94.075000</td>\n",
       "      <td>5.188425</td>\n",
       "      <td>24.000000</td>\n",
       "      <td>666.000000</td>\n",
       "      <td>20.200000</td>\n",
       "      <td>396.225000</td>\n",
       "      <td>16.955000</td>\n",
       "      <td>25.000000</td>\n",
       "    </tr>\n",
       "    <tr>\n",
       "      <th>max</th>\n",
       "      <td>88.976200</td>\n",
       "      <td>100.000000</td>\n",
       "      <td>27.740000</td>\n",
       "      <td>1.000000</td>\n",
       "      <td>0.871000</td>\n",
       "      <td>8.780000</td>\n",
       "      <td>100.000000</td>\n",
       "      <td>12.126500</td>\n",
       "      <td>24.000000</td>\n",
       "      <td>711.000000</td>\n",
       "      <td>22.000000</td>\n",
       "      <td>396.900000</td>\n",
       "      <td>37.970000</td>\n",
       "      <td>50.000000</td>\n",
       "    </tr>\n",
       "  </tbody>\n",
       "</table>\n",
       "</div>"
      ],
      "text/plain": [
       "             crim          zn       indus        chas         nox          rm  \\\n",
       "count  506.000000  506.000000  506.000000  506.000000  506.000000  506.000000   \n",
       "mean     3.613524   11.363636   11.136779    0.069170    0.554695    6.284341   \n",
       "std      8.601545   23.322453    6.860353    0.253994    0.115878    0.702085   \n",
       "min      0.006320    0.000000    0.460000    0.000000    0.385000    3.561000   \n",
       "25%      0.082045    0.000000    5.190000    0.000000    0.449000    5.885500   \n",
       "50%      0.256510    0.000000    9.690000    0.000000    0.538000    6.210000   \n",
       "75%      3.677083   12.500000   18.100000    0.000000    0.624000    6.618750   \n",
       "max     88.976200  100.000000   27.740000    1.000000    0.871000    8.780000   \n",
       "\n",
       "              age         dis         rad         tax     ptratio           b  \\\n",
       "count  506.000000  506.000000  506.000000  506.000000  506.000000  506.000000   \n",
       "mean    68.574901    3.795043    9.549407  408.237154   18.455534  356.674032   \n",
       "std     28.148861    2.105710    8.707259  168.537116    2.164946   91.294864   \n",
       "min      2.900000    1.129600    1.000000  187.000000   12.600000    0.320000   \n",
       "25%     45.025000    2.100175    4.000000  279.000000   17.400000  375.377500   \n",
       "50%     77.500000    3.207450    5.000000  330.000000   19.050000  391.440000   \n",
       "75%     94.075000    5.188425   24.000000  666.000000   20.200000  396.225000   \n",
       "max    100.000000   12.126500   24.000000  711.000000   22.000000  396.900000   \n",
       "\n",
       "            lstat        medv  \n",
       "count  506.000000  506.000000  \n",
       "mean    12.653063   22.532806  \n",
       "std      7.141062    9.197104  \n",
       "min      1.730000    5.000000  \n",
       "25%      6.950000   17.025000  \n",
       "50%     11.360000   21.200000  \n",
       "75%     16.955000   25.000000  \n",
       "max     37.970000   50.000000  "
      ]
     },
     "execution_count": 8,
     "metadata": {},
     "output_type": "execute_result"
    }
   ],
   "source": [
    "df.describe()"
   ]
  },
  {
   "cell_type": "code",
   "execution_count": 9,
   "id": "2d001cbf-1f3e-48c8-919d-69766f5bbff2",
   "metadata": {},
   "outputs": [],
   "source": [
    "# 반응 변수는 medv (median value of owner occupied homes in thousands.)\n",
    "X = df.drop(['medv'], axis = 1)\n",
    "y = df['medv']"
   ]
  },
  {
   "cell_type": "code",
   "execution_count": 10,
   "id": "3383701d-e527-4241-8fb8-7ea0a4cab888",
   "metadata": {},
   "outputs": [],
   "source": [
    "# 변수 타입을 모두 32bit float으로 바꾼다. (딥러닝에서 디폴트 포맷임)\n",
    "X = np.array(X).astype('float32')\n",
    "y = np.array(y).astype('float32')"
   ]
  },
  {
   "cell_type": "code",
   "execution_count": 11,
   "id": "9938eace-65e1-46b0-afd2-57cd691cd73f",
   "metadata": {},
   "outputs": [],
   "source": [
    "from sklearn.model_selection import train_test_split\n",
    "X_train, X_test, y_train, y_test = train_test_split(X,y, test_size=0.30)"
   ]
  },
  {
   "cell_type": "code",
   "execution_count": 12,
   "id": "406f8151-53f6-42e9-ae28-9933cd53d304",
   "metadata": {},
   "outputs": [
    {
     "name": "stdout",
     "output_type": "stream",
     "text": [
      "sagemaker.config INFO - Not applying SDK defaults from location: /etc/xdg/sagemaker/config.yaml\n",
      "sagemaker.config INFO - Not applying SDK defaults from location: /home/sagemaker-user/.config/sagemaker/config.yaml\n",
      "arn:aws:iam::900521233259:role/service-role/AmazonSageMaker-ExecutionRole-20240327T170750\n"
     ]
    }
   ],
   "source": [
    "import sagemaker\n",
    "import boto3\n",
    "\n",
    "#Create a SageMaker session\n",
    "sagemaker_session = sagemaker.Session()\n",
    "bucket = \"jason-linlearner-housingdata\"\n",
    "prefix = \"linear-learner\" #prefix is a sub-folder/key within the S3 bucket\n",
    "\n",
    "#Access SageMaker role created prior to session\n",
    "#Need to pass role to training job\n",
    "role = sagemaker.get_execution_role()\n",
    "print(role)"
   ]
  },
  {
   "cell_type": "code",
   "execution_count": 13,
   "id": "c5ec0e12-ea71-47a6-945f-f8c88de2c6f5",
   "metadata": {},
   "outputs": [
    {
     "data": {
      "text/plain": [
       "0"
      ]
     },
     "execution_count": 13,
     "metadata": {},
     "output_type": "execute_result"
    }
   ],
   "source": [
    "# Need to convert dataset to RecordIO format for Linear Learner to understand\n",
    "import io \n",
    "import sagemaker.amazon.common as smac \n",
    "import os\n",
    "\n",
    "buf = io.BytesIO()\n",
    "smac.write_numpy_to_dense_tensor(buf, X_train, y_train)\n",
    "buf.seek(0) "
   ]
  },
  {
   "cell_type": "code",
   "execution_count": 14,
   "id": "8ce3cc58-2671-4e7f-a1cd-76abbdb09126",
   "metadata": {},
   "outputs": [
    {
     "name": "stdout",
     "output_type": "stream",
     "text": [
      "uploaded training data location: s3://jason-linlearner-housingdata/linear-learner/train/linear-train-data\n"
     ]
    }
   ],
   "source": [
    "#Filename for training data we are uploading to S3 \n",
    "key = 'linear-train-data'\n",
    "\n",
    "#Upload training data to S3\n",
    "boto3.resource('s3').Bucket(bucket).Object(os.path.join(prefix, 'train', key)).upload_fileobj(buf)\n",
    "# 업로드한 폴더 위치\n",
    "s3_train_data = 's3://{}/{}/train/{}'.format(bucket, prefix, key)\n",
    "print('uploaded training data location: {}'.format(s3_train_data))"
   ]
  },
  {
   "cell_type": "code",
   "execution_count": 15,
   "id": "b7322e07-d082-4ce8-b995-5f34ae7477b7",
   "metadata": {},
   "outputs": [
    {
     "name": "stdout",
     "output_type": "stream",
     "text": [
      "uploaded training data location: s3://jason-linlearner-housingdata/linear-learner/test/linear-test-data\n"
     ]
    }
   ],
   "source": [
    "buf = io.BytesIO() # create an in-memory byte array (buf is a buffer I will be writing to)\n",
    "smac.write_numpy_to_dense_tensor(buf, X_test, y_test)\n",
    "buf.seek(0)\n",
    "\n",
    "#Sub-folder for test data\n",
    "key = 'linear-test-data'\n",
    "boto3.resource('s3').Bucket(bucket).Object(os.path.join(prefix, 'test', key)).upload_fileobj(buf)\n",
    "s3_test_data = 's3://{}/{}/test/{}'.format(bucket, prefix, key)\n",
    "print('uploaded training data location: {}'.format(s3_test_data))"
   ]
  },
  {
   "cell_type": "code",
   "execution_count": 16,
   "id": "11318c9d-ae3f-4436-b09a-8cf84a2ceec0",
   "metadata": {},
   "outputs": [
    {
     "name": "stdout",
     "output_type": "stream",
     "text": [
      "Training artifacts will be uploaded to: s3://jason-linlearner-housingdata/linear-learner/output\n"
     ]
    }
   ],
   "source": [
    "output_location = 's3://{}/{}/output'.format(bucket, prefix)\n",
    "print('Training artifacts will be uploaded to: {}'.format(output_location))"
   ]
  },
  {
   "cell_type": "code",
   "execution_count": 17,
   "id": "c33a1024-8ae6-4dbc-917c-8ac952f9012e",
   "metadata": {},
   "outputs": [],
   "source": [
    "from sagemaker.amazon.amazon_estimator import image_uris\n",
    "container = image_uris.retrieve('linear-learner', boto3.Session().region_name)"
   ]
  },
  {
   "cell_type": "code",
   "execution_count": 18,
   "id": "221b48b6-80ad-4fcf-8774-3c174360ed8b",
   "metadata": {},
   "outputs": [
    {
     "name": "stderr",
     "output_type": "stream",
     "text": [
      "INFO:sagemaker:Creating training-job with name: linear-learner-2024-07-27-11-37-52-379\n"
     ]
    },
    {
     "name": "stdout",
     "output_type": "stream",
     "text": [
      "2024-07-27 11:37:52 Starting - Starting the training job...\n",
      "2024-07-27 11:38:17 Starting - Preparing the instances for training...\n",
      "2024-07-27 11:38:37 Downloading - Downloading input data...\n",
      "2024-07-27 11:39:07 Downloading - Downloading the training image.........\n",
      "2024-07-27 11:40:53 Training - Training image download completed. Training in progress.\n",
      "2024-07-27 11:40:53 Uploading - Uploading generated training model.\u001b[34mDocker entrypoint called with argument(s): train\u001b[0m\n",
      "\u001b[34mRunning default environment configuration script\u001b[0m\n",
      "\u001b[34m[07/27/2024 11:40:47 INFO 139895807760192] Reading default configuration from /opt/amazon/lib/python3.8/site-packages/algorithm/resources/default-input.json: {'mini_batch_size': '1000', 'epochs': '15', 'feature_dim': 'auto', 'use_bias': 'true', 'binary_classifier_model_selection_criteria': 'accuracy', 'f_beta': '1.0', 'target_recall': '0.8', 'target_precision': '0.8', 'num_models': 'auto', 'num_calibration_samples': '10000000', 'init_method': 'uniform', 'init_scale': '0.07', 'init_sigma': '0.01', 'init_bias': '0.0', 'optimizer': 'auto', 'loss': 'auto', 'margin': '1.0', 'quantile': '0.5', 'loss_insensitivity': '0.01', 'huber_delta': '1.0', 'num_classes': '1', 'accuracy_top_k': '3', 'wd': 'auto', 'l1': 'auto', 'momentum': 'auto', 'learning_rate': 'auto', 'beta_1': 'auto', 'beta_2': 'auto', 'bias_lr_mult': 'auto', 'bias_wd_mult': 'auto', 'use_lr_scheduler': 'true', 'lr_scheduler_step': 'auto', 'lr_scheduler_factor': 'auto', 'lr_scheduler_minimum_lr': 'auto', 'positive_example_weight_mult': '1.0', 'balance_multiclass_weights': 'false', 'normalize_data': 'true', 'normalize_label': 'auto', 'unbias_data': 'auto', 'unbias_label': 'auto', 'num_point_for_scaler': '10000', '_kvstore': 'auto', '_num_gpus': 'auto', '_num_kv_servers': 'auto', '_log_level': 'info', '_tuning_objective_metric': '', 'early_stopping_patience': '3', 'early_stopping_tolerance': '0.001', '_enable_profiler': 'false'}\u001b[0m\n",
      "\u001b[34m[07/27/2024 11:40:47 INFO 139895807760192] Merging with provided configuration from /opt/ml/input/config/hyperparameters.json: {'epochs': '5', 'feature_dim': '13', 'loss': 'absolute_loss', 'mini_batch_size': '20', 'num_models': '10', 'predictor_type': 'regressor'}\u001b[0m\n",
      "\u001b[34m[07/27/2024 11:40:47 INFO 139895807760192] Final configuration: {'mini_batch_size': '20', 'epochs': '5', 'feature_dim': '13', 'use_bias': 'true', 'binary_classifier_model_selection_criteria': 'accuracy', 'f_beta': '1.0', 'target_recall': '0.8', 'target_precision': '0.8', 'num_models': '10', 'num_calibration_samples': '10000000', 'init_method': 'uniform', 'init_scale': '0.07', 'init_sigma': '0.01', 'init_bias': '0.0', 'optimizer': 'auto', 'loss': 'absolute_loss', 'margin': '1.0', 'quantile': '0.5', 'loss_insensitivity': '0.01', 'huber_delta': '1.0', 'num_classes': '1', 'accuracy_top_k': '3', 'wd': 'auto', 'l1': 'auto', 'momentum': 'auto', 'learning_rate': 'auto', 'beta_1': 'auto', 'beta_2': 'auto', 'bias_lr_mult': 'auto', 'bias_wd_mult': 'auto', 'use_lr_scheduler': 'true', 'lr_scheduler_step': 'auto', 'lr_scheduler_factor': 'auto', 'lr_scheduler_minimum_lr': 'auto', 'positive_example_weight_mult': '1.0', 'balance_multiclass_weights': 'false', 'normalize_data': 'true', 'normalize_label': 'auto', 'unbias_data': 'auto', 'unbias_label': 'auto', 'num_point_for_scaler': '10000', '_kvstore': 'auto', '_num_gpus': 'auto', '_num_kv_servers': 'auto', '_log_level': 'info', '_tuning_objective_metric': '', 'early_stopping_patience': '3', 'early_stopping_tolerance': '0.001', '_enable_profiler': 'false', 'predictor_type': 'regressor'}\u001b[0m\n",
      "\u001b[34m/opt/amazon/lib/python3.8/site-packages/mxnet/model.py:97: SyntaxWarning: \"is\" with a literal. Did you mean \"==\"?\n",
      "  if num_device is 1 and 'dist' not in kvstore:\u001b[0m\n",
      "\u001b[34m/opt/amazon/lib/python3.8/site-packages/scipy/optimize/_shgo.py:495: SyntaxWarning: \"is\" with a literal. Did you mean \"==\"?\n",
      "  if cons['type'] is 'ineq':\u001b[0m\n",
      "\u001b[34m/opt/amazon/lib/python3.8/site-packages/scipy/optimize/_shgo.py:743: SyntaxWarning: \"is not\" with a literal. Did you mean \"!=\"?\n",
      "  if len(self.X_min) is not 0:\u001b[0m\n",
      "\u001b[34m[07/27/2024 11:40:49 WARNING 139895807760192] Loggers have already been setup.\u001b[0m\n",
      "\u001b[34m[07/27/2024 11:40:49 INFO 139895807760192] Final configuration: {'mini_batch_size': '20', 'epochs': '5', 'feature_dim': '13', 'use_bias': 'true', 'binary_classifier_model_selection_criteria': 'accuracy', 'f_beta': '1.0', 'target_recall': '0.8', 'target_precision': '0.8', 'num_models': '10', 'num_calibration_samples': '10000000', 'init_method': 'uniform', 'init_scale': '0.07', 'init_sigma': '0.01', 'init_bias': '0.0', 'optimizer': 'auto', 'loss': 'absolute_loss', 'margin': '1.0', 'quantile': '0.5', 'loss_insensitivity': '0.01', 'huber_delta': '1.0', 'num_classes': '1', 'accuracy_top_k': '3', 'wd': 'auto', 'l1': 'auto', 'momentum': 'auto', 'learning_rate': 'auto', 'beta_1': 'auto', 'beta_2': 'auto', 'bias_lr_mult': 'auto', 'bias_wd_mult': 'auto', 'use_lr_scheduler': 'true', 'lr_scheduler_step': 'auto', 'lr_scheduler_factor': 'auto', 'lr_scheduler_minimum_lr': 'auto', 'positive_example_weight_mult': '1.0', 'balance_multiclass_weights': 'false', 'normalize_data': 'true', 'normalize_label': 'auto', 'unbias_data': 'auto', 'unbias_label': 'auto', 'num_point_for_scaler': '10000', '_kvstore': 'auto', '_num_gpus': 'auto', '_num_kv_servers': 'auto', '_log_level': 'info', '_tuning_objective_metric': '', 'early_stopping_patience': '3', 'early_stopping_tolerance': '0.001', '_enable_profiler': 'false', 'predictor_type': 'regressor'}\u001b[0m\n",
      "\u001b[34m[07/27/2024 11:40:49 WARNING 139895807760192] Loggers have already been setup.\u001b[0m\n",
      "\u001b[34mProcess 7 is a worker.\u001b[0m\n",
      "\u001b[34m[07/27/2024 11:40:49 INFO 139895807760192] Using default worker.\u001b[0m\n",
      "\u001b[34m[07/27/2024 11:40:49 INFO 139895807760192] Checkpoint loading and saving are disabled.\u001b[0m\n",
      "\u001b[34m[2024-07-27 11:40:49.767] [tensorio] [info] epoch_stats={\"data_pipeline\": \"/opt/ml/input/data/train\", \"epoch\": 0, \"duration\": 12, \"num_examples\": 1, \"num_bytes\": 1920}\u001b[0m\n",
      "\u001b[34m[07/27/2024 11:40:49 INFO 139895807760192] Create Store: local\u001b[0m\n",
      "\u001b[34m[2024-07-27 11:40:49.833] [tensorio] [info] epoch_stats={\"data_pipeline\": \"/opt/ml/input/data/train\", \"epoch\": 1, \"duration\": 66, \"num_examples\": 18, \"num_bytes\": 33984}\u001b[0m\n",
      "\u001b[34m[07/27/2024 11:40:49 INFO 139895807760192] Scaler algorithm parameters\n",
      " <algorithm.scaler.ScalerAlgorithmStable object at 0x7f3b77f0e430>\u001b[0m\n",
      "\u001b[34m[07/27/2024 11:40:49 INFO 139895807760192] Scaling model computed with parameters:\n",
      " {'stdev_label': \u001b[0m\n",
      "\u001b[34m[8.909631]\u001b[0m\n",
      "\u001b[34m<NDArray 1 @cpu(0)>, 'stdev_weight': \u001b[0m\n",
      "\u001b[34m[8.7605066e+00 2.4100618e+01 6.8309221e+00 2.2391608e-01 1.1423914e-01\n",
      " 6.8459272e-01 2.8761360e+01 2.1683264e+00 8.6169100e+00 1.6630254e+02\n",
      " 2.1096468e+00 8.9221046e+01 6.8200908e+00]\u001b[0m\n",
      "\u001b[34m<NDArray 13 @cpu(0)>, 'mean_label': \u001b[0m\n",
      "\u001b[34m[22.654705]\u001b[0m\n",
      "\u001b[34m<NDArray 1 @cpu(0)>, 'mean_weight': \u001b[0m\n",
      "\u001b[34m[3.5118725e+00 1.2202942e+01 1.0791648e+01 5.2941181e-02 5.4726094e-01\n",
      " 6.3047066e+00 6.7080589e+01 3.9060090e+00 9.3970575e+00 4.0417944e+02\n",
      " 1.8497356e+01 3.5884521e+02 1.2129883e+01]\u001b[0m\n",
      "\u001b[34m<NDArray 13 @cpu(0)>}\u001b[0m\n",
      "\u001b[34m/opt/amazon/python3.8/lib/python3.8/subprocess.py:848: RuntimeWarning: line buffering (buffering=1) isn't supported in binary mode, the default buffer size will be used\n",
      "  self.stdout = io.open(c2pread, 'rb', bufsize)\u001b[0m\n",
      "\u001b[34m[07/27/2024 11:40:49 INFO 139895807760192] nvidia-smi: took 0.031 seconds to run.\u001b[0m\n",
      "\u001b[34m[07/27/2024 11:40:49 INFO 139895807760192] nvidia-smi identified 0 GPUs.\u001b[0m\n",
      "\u001b[34m[07/27/2024 11:40:49 INFO 139895807760192] Number of GPUs being used: 0\u001b[0m\n",
      "\u001b[34m#metrics {\"StartTime\": 1722080449.8823218, \"EndTime\": 1722080449.8823514, \"Dimensions\": {\"Algorithm\": \"Linear Learner\", \"Host\": \"algo-1\", \"Operation\": \"training\", \"Meta\": \"init_train_data_iter\"}, \"Metrics\": {\"Total Records Seen\": {\"sum\": 374.0, \"count\": 1, \"min\": 374, \"max\": 374}, \"Total Batches Seen\": {\"sum\": 19.0, \"count\": 1, \"min\": 19, \"max\": 19}, \"Max Records Seen Between Resets\": {\"sum\": 354.0, \"count\": 1, \"min\": 354, \"max\": 354}, \"Max Batches Seen Between Resets\": {\"sum\": 18.0, \"count\": 1, \"min\": 18, \"max\": 18}, \"Reset Count\": {\"sum\": 2.0, \"count\": 1, \"min\": 2, \"max\": 2}, \"Number of Records Since Last Reset\": {\"sum\": 0.0, \"count\": 1, \"min\": 0, \"max\": 0}, \"Number of Batches Since Last Reset\": {\"sum\": 0.0, \"count\": 1, \"min\": 0, \"max\": 0}}}\u001b[0m\n",
      "\u001b[34m[2024-07-27 11:40:49.955] [tensorio] [info] epoch_stats={\"data_pipeline\": \"/opt/ml/input/data/train\", \"epoch\": 4, \"duration\": 73, \"num_examples\": 18, \"num_bytes\": 33984}\u001b[0m\n",
      "\u001b[34m#metrics {\"StartTime\": 1722080449.9558983, \"EndTime\": 1722080449.9559343, \"Dimensions\": {\"Algorithm\": \"Linear Learner\", \"Host\": \"algo-1\", \"Operation\": \"training\", \"epoch\": 0, \"model\": 0}, \"Metrics\": {\"train_absolute_loss_objective\": {\"sum\": 0.5757136302835801, \"count\": 1, \"min\": 0.5757136302835801, \"max\": 0.5757136302835801}}}\u001b[0m\n",
      "\u001b[34m#metrics {\"StartTime\": 1722080449.9559808, \"EndTime\": 1722080449.9559886, \"Dimensions\": {\"Algorithm\": \"Linear Learner\", \"Host\": \"algo-1\", \"Operation\": \"training\", \"epoch\": 0, \"model\": 1}, \"Metrics\": {\"train_absolute_loss_objective\": {\"sum\": 0.5619056926054113, \"count\": 1, \"min\": 0.5619056926054113, \"max\": 0.5619056926054113}}}\u001b[0m\n",
      "\u001b[34m#metrics {\"StartTime\": 1722080449.956012, \"EndTime\": 1722080449.9560184, \"Dimensions\": {\"Algorithm\": \"Linear Learner\", \"Host\": \"algo-1\", \"Operation\": \"training\", \"epoch\": 0, \"model\": 2}, \"Metrics\": {\"train_absolute_loss_objective\": {\"sum\": 0.6283806057537303, \"count\": 1, \"min\": 0.6283806057537303, \"max\": 0.6283806057537303}}}\u001b[0m\n",
      "\u001b[34m#metrics {\"StartTime\": 1722080449.9560385, \"EndTime\": 1722080449.956044, \"Dimensions\": {\"Algorithm\": \"Linear Learner\", \"Host\": \"algo-1\", \"Operation\": \"training\", \"epoch\": 0, \"model\": 3}, \"Metrics\": {\"train_absolute_loss_objective\": {\"sum\": 0.5936795725541957, \"count\": 1, \"min\": 0.5936795725541957, \"max\": 0.5936795725541957}}}\u001b[0m\n",
      "\u001b[34m#metrics {\"StartTime\": 1722080449.9560692, \"EndTime\": 1722080449.956075, \"Dimensions\": {\"Algorithm\": \"Linear Learner\", \"Host\": \"algo-1\", \"Operation\": \"training\", \"epoch\": 0, \"model\": 4}, \"Metrics\": {\"train_absolute_loss_objective\": {\"sum\": 0.6928835882860072, \"count\": 1, \"min\": 0.6928835882860072, \"max\": 0.6928835882860072}}}\u001b[0m\n",
      "\u001b[34m#metrics {\"StartTime\": 1722080449.9560993, \"EndTime\": 1722080449.956105, \"Dimensions\": {\"Algorithm\": \"Linear Learner\", \"Host\": \"algo-1\", \"Operation\": \"training\", \"epoch\": 0, \"model\": 5}, \"Metrics\": {\"train_absolute_loss_objective\": {\"sum\": 0.642661714553833, \"count\": 1, \"min\": 0.642661714553833, \"max\": 0.642661714553833}}}\u001b[0m\n",
      "\u001b[34m#metrics {\"StartTime\": 1722080449.9561286, \"EndTime\": 1722080449.956134, \"Dimensions\": {\"Algorithm\": \"Linear Learner\", \"Host\": \"algo-1\", \"Operation\": \"training\", \"epoch\": 0, \"model\": 6}, \"Metrics\": {\"train_absolute_loss_objective\": {\"sum\": 0.6487525813719806, \"count\": 1, \"min\": 0.6487525813719806, \"max\": 0.6487525813719806}}}\u001b[0m\n",
      "\u001b[34m#metrics {\"StartTime\": 1722080449.9561577, \"EndTime\": 1722080449.9561634, \"Dimensions\": {\"Algorithm\": \"Linear Learner\", \"Host\": \"algo-1\", \"Operation\": \"training\", \"epoch\": 0, \"model\": 7}, \"Metrics\": {\"train_absolute_loss_objective\": {\"sum\": 0.6417871264850392, \"count\": 1, \"min\": 0.6417871264850392, \"max\": 0.6417871264850392}}}\u001b[0m\n",
      "\u001b[34m#metrics {\"StartTime\": 1722080449.9562051, \"EndTime\": 1722080449.9562109, \"Dimensions\": {\"Algorithm\": \"Linear Learner\", \"Host\": \"algo-1\", \"Operation\": \"training\", \"epoch\": 0, \"model\": 8}, \"Metrics\": {\"train_absolute_loss_objective\": {\"sum\": 0.5553254323847153, \"count\": 1, \"min\": 0.5553254323847153, \"max\": 0.5553254323847153}}}\u001b[0m\n",
      "\u001b[34m#metrics {\"StartTime\": 1722080449.9562366, \"EndTime\": 1722080449.9562418, \"Dimensions\": {\"Algorithm\": \"Linear Learner\", \"Host\": \"algo-1\", \"Operation\": \"training\", \"epoch\": 0, \"model\": 9}, \"Metrics\": {\"train_absolute_loss_objective\": {\"sum\": 0.6668818277471206, \"count\": 1, \"min\": 0.6668818277471206, \"max\": 0.6668818277471206}}}\u001b[0m\n",
      "\u001b[34m[07/27/2024 11:40:49 INFO 139895807760192] #quality_metric: host=algo-1, epoch=0, train absolute_loss_objective <loss>=0.5757136302835801\u001b[0m\n",
      "\u001b[34m[07/27/2024 11:40:49 INFO 139895807760192] #early_stopping_criteria_metric: host=algo-1, epoch=0, criteria=absolute_loss_objective, value=0.5553254323847153\u001b[0m\n",
      "\u001b[34m[07/27/2024 11:40:49 INFO 139895807760192] Epoch 0: Loss improved. Updating best model\u001b[0m\n",
      "\u001b[34m[07/27/2024 11:40:49 INFO 139895807760192] Saving model for epoch: 0\u001b[0m\n",
      "\u001b[34m[07/27/2024 11:40:49 INFO 139895807760192] Saved checkpoint to \"/tmp/tmp9qvvjmun/mx-mod-0000.params\"\u001b[0m\n",
      "\u001b[34m[07/27/2024 11:40:49 INFO 139895807760192] #progress_metric: host=algo-1, completed 20.0 % of epochs\u001b[0m\n",
      "\u001b[34m#metrics {\"StartTime\": 1722080449.8825612, \"EndTime\": 1722080449.9621549, \"Dimensions\": {\"Algorithm\": \"Linear Learner\", \"Host\": \"algo-1\", \"Operation\": \"training\", \"epoch\": 0, \"Meta\": \"training_data_iter\"}, \"Metrics\": {\"Total Records Seen\": {\"sum\": 728.0, \"count\": 1, \"min\": 728, \"max\": 728}, \"Total Batches Seen\": {\"sum\": 37.0, \"count\": 1, \"min\": 37, \"max\": 37}, \"Max Records Seen Between Resets\": {\"sum\": 354.0, \"count\": 1, \"min\": 354, \"max\": 354}, \"Max Batches Seen Between Resets\": {\"sum\": 18.0, \"count\": 1, \"min\": 18, \"max\": 18}, \"Reset Count\": {\"sum\": 3.0, \"count\": 1, \"min\": 3, \"max\": 3}, \"Number of Records Since Last Reset\": {\"sum\": 354.0, \"count\": 1, \"min\": 354, \"max\": 354}, \"Number of Batches Since Last Reset\": {\"sum\": 18.0, \"count\": 1, \"min\": 18, \"max\": 18}}}\u001b[0m\n",
      "\u001b[34m[07/27/2024 11:40:49 INFO 139895807760192] #throughput_metric: host=algo-1, train throughput=4442.799569120287 records/second\u001b[0m\n",
      "\u001b[34m[2024-07-27 11:40:50.029] [tensorio] [info] epoch_stats={\"data_pipeline\": \"/opt/ml/input/data/train\", \"epoch\": 6, \"duration\": 67, \"num_examples\": 18, \"num_bytes\": 33984}\u001b[0m\n",
      "\u001b[34m#metrics {\"StartTime\": 1722080450.0300002, \"EndTime\": 1722080450.030025, \"Dimensions\": {\"Algorithm\": \"Linear Learner\", \"Host\": \"algo-1\", \"Operation\": \"training\", \"epoch\": 1, \"model\": 0}, \"Metrics\": {\"train_absolute_loss_objective\": {\"sum\": 0.45947208685033464, \"count\": 1, \"min\": 0.45947208685033464, \"max\": 0.45947208685033464}}}\u001b[0m\n",
      "\u001b[34m#metrics {\"StartTime\": 1722080450.030124, \"EndTime\": 1722080450.0301352, \"Dimensions\": {\"Algorithm\": \"Linear Learner\", \"Host\": \"algo-1\", \"Operation\": \"training\", \"epoch\": 1, \"model\": 1}, \"Metrics\": {\"train_absolute_loss_objective\": {\"sum\": 0.46278324968674606, \"count\": 1, \"min\": 0.46278324968674606, \"max\": 0.46278324968674606}}}\u001b[0m\n",
      "\u001b[34m#metrics {\"StartTime\": 1722080450.0301664, \"EndTime\": 1722080450.0301733, \"Dimensions\": {\"Algorithm\": \"Linear Learner\", \"Host\": \"algo-1\", \"Operation\": \"training\", \"epoch\": 1, \"model\": 2}, \"Metrics\": {\"train_absolute_loss_objective\": {\"sum\": 0.4855390240164364, \"count\": 1, \"min\": 0.4855390240164364, \"max\": 0.4855390240164364}}}\u001b[0m\n",
      "\u001b[34m#metrics {\"StartTime\": 1722080450.0301964, \"EndTime\": 1722080450.0302024, \"Dimensions\": {\"Algorithm\": \"Linear Learner\", \"Host\": \"algo-1\", \"Operation\": \"training\", \"epoch\": 1, \"model\": 3}, \"Metrics\": {\"train_absolute_loss_objective\": {\"sum\": 0.48471533831428076, \"count\": 1, \"min\": 0.48471533831428076, \"max\": 0.48471533831428076}}}\u001b[0m\n",
      "\u001b[34m#metrics {\"StartTime\": 1722080450.030222, \"EndTime\": 1722080450.0302272, \"Dimensions\": {\"Algorithm\": \"Linear Learner\", \"Host\": \"algo-1\", \"Operation\": \"training\", \"epoch\": 1, \"model\": 4}, \"Metrics\": {\"train_absolute_loss_objective\": {\"sum\": 0.49929677598616656, \"count\": 1, \"min\": 0.49929677598616656, \"max\": 0.49929677598616656}}}\u001b[0m\n",
      "\u001b[34m#metrics {\"StartTime\": 1722080450.0302458, \"EndTime\": 1722080450.0302513, \"Dimensions\": {\"Algorithm\": \"Linear Learner\", \"Host\": \"algo-1\", \"Operation\": \"training\", \"epoch\": 1, \"model\": 5}, \"Metrics\": {\"train_absolute_loss_objective\": {\"sum\": 0.44851460456848147, \"count\": 1, \"min\": 0.44851460456848147, \"max\": 0.44851460456848147}}}\u001b[0m\n",
      "\u001b[34m#metrics {\"StartTime\": 1722080450.0302758, \"EndTime\": 1722080450.0302815, \"Dimensions\": {\"Algorithm\": \"Linear Learner\", \"Host\": \"algo-1\", \"Operation\": \"training\", \"epoch\": 1, \"model\": 6}, \"Metrics\": {\"train_absolute_loss_objective\": {\"sum\": 0.48844762128942154, \"count\": 1, \"min\": 0.48844762128942154, \"max\": 0.48844762128942154}}}\u001b[0m\n",
      "\u001b[34m#metrics {\"StartTime\": 1722080450.030305, \"EndTime\": 1722080450.0303106, \"Dimensions\": {\"Algorithm\": \"Linear Learner\", \"Host\": \"algo-1\", \"Operation\": \"training\", \"epoch\": 1, \"model\": 7}, \"Metrics\": {\"train_absolute_loss_objective\": {\"sum\": 0.4258159399032593, \"count\": 1, \"min\": 0.4258159399032593, \"max\": 0.4258159399032593}}}\u001b[0m\n",
      "\u001b[34m#metrics {\"StartTime\": 1722080450.0303342, \"EndTime\": 1722080450.03034, \"Dimensions\": {\"Algorithm\": \"Linear Learner\", \"Host\": \"algo-1\", \"Operation\": \"training\", \"epoch\": 1, \"model\": 8}, \"Metrics\": {\"train_absolute_loss_objective\": {\"sum\": 0.46355953216552737, \"count\": 1, \"min\": 0.46355953216552737, \"max\": 0.46355953216552737}}}\u001b[0m\n",
      "\u001b[34m#metrics {\"StartTime\": 1722080450.0303602, \"EndTime\": 1722080450.030366, \"Dimensions\": {\"Algorithm\": \"Linear Learner\", \"Host\": \"algo-1\", \"Operation\": \"training\", \"epoch\": 1, \"model\": 9}, \"Metrics\": {\"train_absolute_loss_objective\": {\"sum\": 0.5207153572755702, \"count\": 1, \"min\": 0.5207153572755702, \"max\": 0.5207153572755702}}}\u001b[0m\n",
      "\u001b[34m[07/27/2024 11:40:50 INFO 139895807760192] #quality_metric: host=algo-1, epoch=1, train absolute_loss_objective <loss>=0.45947208685033464\u001b[0m\n",
      "\u001b[34m[07/27/2024 11:40:50 INFO 139895807760192] #early_stopping_criteria_metric: host=algo-1, epoch=1, criteria=absolute_loss_objective, value=0.4258159399032593\u001b[0m\n",
      "\u001b[34m[07/27/2024 11:40:50 INFO 139895807760192] Epoch 1: Loss improved. Updating best model\u001b[0m\n",
      "\u001b[34m[07/27/2024 11:40:50 INFO 139895807760192] Saving model for epoch: 1\u001b[0m\n",
      "\u001b[34m[07/27/2024 11:40:50 INFO 139895807760192] Saved checkpoint to \"/tmp/tmp7k158pm9/mx-mod-0000.params\"\u001b[0m\n",
      "\u001b[34m[07/27/2024 11:40:50 INFO 139895807760192] #progress_metric: host=algo-1, completed 40.0 % of epochs\u001b[0m\n",
      "\u001b[34m#metrics {\"StartTime\": 1722080449.9623115, \"EndTime\": 1722080450.0367107, \"Dimensions\": {\"Algorithm\": \"Linear Learner\", \"Host\": \"algo-1\", \"Operation\": \"training\", \"epoch\": 1, \"Meta\": \"training_data_iter\"}, \"Metrics\": {\"Total Records Seen\": {\"sum\": 1082.0, \"count\": 1, \"min\": 1082, \"max\": 1082}, \"Total Batches Seen\": {\"sum\": 55.0, \"count\": 1, \"min\": 55, \"max\": 55}, \"Max Records Seen Between Resets\": {\"sum\": 354.0, \"count\": 1, \"min\": 354, \"max\": 354}, \"Max Batches Seen Between Resets\": {\"sum\": 18.0, \"count\": 1, \"min\": 18, \"max\": 18}, \"Reset Count\": {\"sum\": 4.0, \"count\": 1, \"min\": 4, \"max\": 4}, \"Number of Records Since Last Reset\": {\"sum\": 354.0, \"count\": 1, \"min\": 354, \"max\": 354}, \"Number of Batches Since Last Reset\": {\"sum\": 18.0, \"count\": 1, \"min\": 18, \"max\": 18}}}\u001b[0m\n",
      "\u001b[34m[07/27/2024 11:40:50 INFO 139895807760192] #throughput_metric: host=algo-1, train throughput=4753.193638435731 records/second\u001b[0m\n",
      "\u001b[34m[2024-07-27 11:40:50.103] [tensorio] [info] epoch_stats={\"data_pipeline\": \"/opt/ml/input/data/train\", \"epoch\": 8, \"duration\": 66, \"num_examples\": 18, \"num_bytes\": 33984}\u001b[0m\n",
      "\u001b[34m#metrics {\"StartTime\": 1722080450.1030314, \"EndTime\": 1722080450.103059, \"Dimensions\": {\"Algorithm\": \"Linear Learner\", \"Host\": \"algo-1\", \"Operation\": \"training\", \"epoch\": 2, \"model\": 0}, \"Metrics\": {\"train_absolute_loss_objective\": {\"sum\": 0.4085689670899335, \"count\": 1, \"min\": 0.4085689670899335, \"max\": 0.4085689670899335}}}\u001b[0m\n",
      "\u001b[34m#metrics {\"StartTime\": 1722080450.1031117, \"EndTime\": 1722080450.1031232, \"Dimensions\": {\"Algorithm\": \"Linear Learner\", \"Host\": \"algo-1\", \"Operation\": \"training\", \"epoch\": 2, \"model\": 1}, \"Metrics\": {\"train_absolute_loss_objective\": {\"sum\": 0.4121784532771391, \"count\": 1, \"min\": 0.4121784532771391, \"max\": 0.4121784532771391}}}\u001b[0m\n",
      "\u001b[34m#metrics {\"StartTime\": 1722080450.1031609, \"EndTime\": 1722080450.1031704, \"Dimensions\": {\"Algorithm\": \"Linear Learner\", \"Host\": \"algo-1\", \"Operation\": \"training\", \"epoch\": 2, \"model\": 2}, \"Metrics\": {\"train_absolute_loss_objective\": {\"sum\": 0.42606310283436494, \"count\": 1, \"min\": 0.42606310283436494, \"max\": 0.42606310283436494}}}\u001b[0m\n",
      "\u001b[34m#metrics {\"StartTime\": 1722080450.1032066, \"EndTime\": 1722080450.1032152, \"Dimensions\": {\"Algorithm\": \"Linear Learner\", \"Host\": \"algo-1\", \"Operation\": \"training\", \"epoch\": 2, \"model\": 3}, \"Metrics\": {\"train_absolute_loss_objective\": {\"sum\": 0.42375090262469123, \"count\": 1, \"min\": 0.42375090262469123, \"max\": 0.42375090262469123}}}\u001b[0m\n",
      "\u001b[34m#metrics {\"StartTime\": 1722080450.1032493, \"EndTime\": 1722080450.1032581, \"Dimensions\": {\"Algorithm\": \"Linear Learner\", \"Host\": \"algo-1\", \"Operation\": \"training\", \"epoch\": 2, \"model\": 4}, \"Metrics\": {\"train_absolute_loss_objective\": {\"sum\": 0.4293324035756728, \"count\": 1, \"min\": 0.4293324035756728, \"max\": 0.4293324035756728}}}\u001b[0m\n",
      "\u001b[34m#metrics {\"StartTime\": 1722080450.103292, \"EndTime\": 1722080450.1033008, \"Dimensions\": {\"Algorithm\": \"Linear Learner\", \"Host\": \"algo-1\", \"Operation\": \"training\", \"epoch\": 2, \"model\": 5}, \"Metrics\": {\"train_absolute_loss_objective\": {\"sum\": 0.42983666448032154, \"count\": 1, \"min\": 0.42983666448032154, \"max\": 0.42983666448032154}}}\u001b[0m\n",
      "\u001b[34m#metrics {\"StartTime\": 1722080450.1033337, \"EndTime\": 1722080450.1033425, \"Dimensions\": {\"Algorithm\": \"Linear Learner\", \"Host\": \"algo-1\", \"Operation\": \"training\", \"epoch\": 2, \"model\": 6}, \"Metrics\": {\"train_absolute_loss_objective\": {\"sum\": 0.4292123724432553, \"count\": 1, \"min\": 0.4292123724432553, \"max\": 0.4292123724432553}}}\u001b[0m\n",
      "\u001b[34m#metrics {\"StartTime\": 1722080450.1033762, \"EndTime\": 1722080450.1033847, \"Dimensions\": {\"Algorithm\": \"Linear Learner\", \"Host\": \"algo-1\", \"Operation\": \"training\", \"epoch\": 2, \"model\": 7}, \"Metrics\": {\"train_absolute_loss_objective\": {\"sum\": 0.459509960342856, \"count\": 1, \"min\": 0.459509960342856, \"max\": 0.459509960342856}}}\u001b[0m\n",
      "\u001b[34m#metrics {\"StartTime\": 1722080450.1034186, \"EndTime\": 1722080450.1034272, \"Dimensions\": {\"Algorithm\": \"Linear Learner\", \"Host\": \"algo-1\", \"Operation\": \"training\", \"epoch\": 2, \"model\": 8}, \"Metrics\": {\"train_absolute_loss_objective\": {\"sum\": 0.40945881114286536, \"count\": 1, \"min\": 0.40945881114286536, \"max\": 0.40945881114286536}}}\u001b[0m\n",
      "\u001b[34m#metrics {\"StartTime\": 1722080450.10346, \"EndTime\": 1722080450.103469, \"Dimensions\": {\"Algorithm\": \"Linear Learner\", \"Host\": \"algo-1\", \"Operation\": \"training\", \"epoch\": 2, \"model\": 9}, \"Metrics\": {\"train_absolute_loss_objective\": {\"sum\": 0.45424741436453425, \"count\": 1, \"min\": 0.45424741436453425, \"max\": 0.45424741436453425}}}\u001b[0m\n",
      "\u001b[34m[07/27/2024 11:40:50 INFO 139895807760192] #quality_metric: host=algo-1, epoch=2, train absolute_loss_objective <loss>=0.4085689670899335\u001b[0m\n",
      "\u001b[34m[07/27/2024 11:40:50 INFO 139895807760192] #early_stopping_criteria_metric: host=algo-1, epoch=2, criteria=absolute_loss_objective, value=0.4085689670899335\u001b[0m\n",
      "\u001b[34m[07/27/2024 11:40:50 INFO 139895807760192] Epoch 2: Loss improved. Updating best model\u001b[0m\n",
      "\u001b[34m[07/27/2024 11:40:50 INFO 139895807760192] Saving model for epoch: 2\u001b[0m\n",
      "\u001b[34m[07/27/2024 11:40:50 INFO 139895807760192] Saved checkpoint to \"/tmp/tmp1q_7u9_5/mx-mod-0000.params\"\u001b[0m\n",
      "\u001b[34m[07/27/2024 11:40:50 INFO 139895807760192] #progress_metric: host=algo-1, completed 60.0 % of epochs\u001b[0m\n",
      "\u001b[34m#metrics {\"StartTime\": 1722080450.0368826, \"EndTime\": 1722080450.1099224, \"Dimensions\": {\"Algorithm\": \"Linear Learner\", \"Host\": \"algo-1\", \"Operation\": \"training\", \"epoch\": 2, \"Meta\": \"training_data_iter\"}, \"Metrics\": {\"Total Records Seen\": {\"sum\": 1436.0, \"count\": 1, \"min\": 1436, \"max\": 1436}, \"Total Batches Seen\": {\"sum\": 73.0, \"count\": 1, \"min\": 73, \"max\": 73}, \"Max Records Seen Between Resets\": {\"sum\": 354.0, \"count\": 1, \"min\": 354, \"max\": 354}, \"Max Batches Seen Between Resets\": {\"sum\": 18.0, \"count\": 1, \"min\": 18, \"max\": 18}, \"Reset Count\": {\"sum\": 5.0, \"count\": 1, \"min\": 5, \"max\": 5}, \"Number of Records Since Last Reset\": {\"sum\": 354.0, \"count\": 1, \"min\": 354, \"max\": 354}, \"Number of Batches Since Last Reset\": {\"sum\": 18.0, \"count\": 1, \"min\": 18, \"max\": 18}}}\u001b[0m\n",
      "\u001b[34m[07/27/2024 11:40:50 INFO 139895807760192] #throughput_metric: host=algo-1, train throughput=4840.62287193464 records/second\u001b[0m\n",
      "\u001b[34m[2024-07-27 11:40:50.183] [tensorio] [info] epoch_stats={\"data_pipeline\": \"/opt/ml/input/data/train\", \"epoch\": 10, \"duration\": 73, \"num_examples\": 18, \"num_bytes\": 33984}\u001b[0m\n",
      "\u001b[34m#metrics {\"StartTime\": 1722080450.1835058, \"EndTime\": 1722080450.1835384, \"Dimensions\": {\"Algorithm\": \"Linear Learner\", \"Host\": \"algo-1\", \"Operation\": \"training\", \"epoch\": 3, \"model\": 0}, \"Metrics\": {\"train_absolute_loss_objective\": {\"sum\": 0.3788745669757619, \"count\": 1, \"min\": 0.3788745669757619, \"max\": 0.3788745669757619}}}\u001b[0m\n",
      "\u001b[34m#metrics {\"StartTime\": 1722080450.1835883, \"EndTime\": 1722080450.1836, \"Dimensions\": {\"Algorithm\": \"Linear Learner\", \"Host\": \"algo-1\", \"Operation\": \"training\", \"epoch\": 3, \"model\": 1}, \"Metrics\": {\"train_absolute_loss_objective\": {\"sum\": 0.37569695220274085, \"count\": 1, \"min\": 0.37569695220274085, \"max\": 0.37569695220274085}}}\u001b[0m\n",
      "\u001b[34m#metrics {\"StartTime\": 1722080450.1836424, \"EndTime\": 1722080450.183653, \"Dimensions\": {\"Algorithm\": \"Linear Learner\", \"Host\": \"algo-1\", \"Operation\": \"training\", \"epoch\": 3, \"model\": 2}, \"Metrics\": {\"train_absolute_loss_objective\": {\"sum\": 0.3858856004827163, \"count\": 1, \"min\": 0.3858856004827163, \"max\": 0.3858856004827163}}}\u001b[0m\n",
      "\u001b[34m#metrics {\"StartTime\": 1722080450.1836839, \"EndTime\": 1722080450.1836922, \"Dimensions\": {\"Algorithm\": \"Linear Learner\", \"Host\": \"algo-1\", \"Operation\": \"training\", \"epoch\": 3, \"model\": 3}, \"Metrics\": {\"train_absolute_loss_objective\": {\"sum\": 0.38680528612697823, \"count\": 1, \"min\": 0.38680528612697823, \"max\": 0.38680528612697823}}}\u001b[0m\n",
      "\u001b[34m#metrics {\"StartTime\": 1722080450.1837204, \"EndTime\": 1722080450.1837287, \"Dimensions\": {\"Algorithm\": \"Linear Learner\", \"Host\": \"algo-1\", \"Operation\": \"training\", \"epoch\": 3, \"model\": 4}, \"Metrics\": {\"train_absolute_loss_objective\": {\"sum\": 0.4426424867966596, \"count\": 1, \"min\": 0.4426424867966596, \"max\": 0.4426424867966596}}}\u001b[0m\n",
      "\u001b[34m#metrics {\"StartTime\": 1722080450.183755, \"EndTime\": 1722080450.1837635, \"Dimensions\": {\"Algorithm\": \"Linear Learner\", \"Host\": \"algo-1\", \"Operation\": \"training\", \"epoch\": 3, \"model\": 5}, \"Metrics\": {\"train_absolute_loss_objective\": {\"sum\": 0.4043762501548318, \"count\": 1, \"min\": 0.4043762501548318, \"max\": 0.4043762501548318}}}\u001b[0m\n",
      "\u001b[34m#metrics {\"StartTime\": 1722080450.1837926, \"EndTime\": 1722080450.1838017, \"Dimensions\": {\"Algorithm\": \"Linear Learner\", \"Host\": \"algo-1\", \"Operation\": \"training\", \"epoch\": 3, \"model\": 6}, \"Metrics\": {\"train_absolute_loss_objective\": {\"sum\": 0.44628603318158316, \"count\": 1, \"min\": 0.44628603318158316, \"max\": 0.44628603318158316}}}\u001b[0m\n",
      "\u001b[34m#metrics {\"StartTime\": 1722080450.1838295, \"EndTime\": 1722080450.1838377, \"Dimensions\": {\"Algorithm\": \"Linear Learner\", \"Host\": \"algo-1\", \"Operation\": \"training\", \"epoch\": 3, \"model\": 7}, \"Metrics\": {\"train_absolute_loss_objective\": {\"sum\": 0.3918184154173907, \"count\": 1, \"min\": 0.3918184154173907, \"max\": 0.3918184154173907}}}\u001b[0m\n",
      "\u001b[34m#metrics {\"StartTime\": 1722080450.1838634, \"EndTime\": 1722080450.183872, \"Dimensions\": {\"Algorithm\": \"Linear Learner\", \"Host\": \"algo-1\", \"Operation\": \"training\", \"epoch\": 3, \"model\": 8}, \"Metrics\": {\"train_absolute_loss_objective\": {\"sum\": 0.3747066539876601, \"count\": 1, \"min\": 0.3747066539876601, \"max\": 0.3747066539876601}}}\u001b[0m\n",
      "\u001b[34m#metrics {\"StartTime\": 1722080450.1838996, \"EndTime\": 1722080450.1839087, \"Dimensions\": {\"Algorithm\": \"Linear Learner\", \"Host\": \"algo-1\", \"Operation\": \"training\", \"epoch\": 3, \"model\": 9}, \"Metrics\": {\"train_absolute_loss_objective\": {\"sum\": 0.4063377254149493, \"count\": 1, \"min\": 0.4063377254149493, \"max\": 0.4063377254149493}}}\u001b[0m\n",
      "\u001b[34m[07/27/2024 11:40:50 INFO 139895807760192] #quality_metric: host=algo-1, epoch=3, train absolute_loss_objective <loss>=0.3788745669757619\u001b[0m\n",
      "\u001b[34m[07/27/2024 11:40:50 INFO 139895807760192] #early_stopping_criteria_metric: host=algo-1, epoch=3, criteria=absolute_loss_objective, value=0.3747066539876601\u001b[0m\n",
      "\u001b[34m[07/27/2024 11:40:50 INFO 139895807760192] Epoch 3: Loss improved. Updating best model\u001b[0m\n",
      "\u001b[34m[07/27/2024 11:40:50 INFO 139895807760192] Saving model for epoch: 3\u001b[0m\n",
      "\u001b[34m[07/27/2024 11:40:50 INFO 139895807760192] Saved checkpoint to \"/tmp/tmpe7pnm34r/mx-mod-0000.params\"\u001b[0m\n",
      "\u001b[34m[07/27/2024 11:40:50 INFO 139895807760192] #progress_metric: host=algo-1, completed 80.0 % of epochs\u001b[0m\n",
      "\u001b[34m#metrics {\"StartTime\": 1722080450.1101243, \"EndTime\": 1722080450.1902797, \"Dimensions\": {\"Algorithm\": \"Linear Learner\", \"Host\": \"algo-1\", \"Operation\": \"training\", \"epoch\": 3, \"Meta\": \"training_data_iter\"}, \"Metrics\": {\"Total Records Seen\": {\"sum\": 1790.0, \"count\": 1, \"min\": 1790, \"max\": 1790}, \"Total Batches Seen\": {\"sum\": 91.0, \"count\": 1, \"min\": 91, \"max\": 91}, \"Max Records Seen Between Resets\": {\"sum\": 354.0, \"count\": 1, \"min\": 354, \"max\": 354}, \"Max Batches Seen Between Resets\": {\"sum\": 18.0, \"count\": 1, \"min\": 18, \"max\": 18}, \"Reset Count\": {\"sum\": 6.0, \"count\": 1, \"min\": 6, \"max\": 6}, \"Number of Records Since Last Reset\": {\"sum\": 354.0, \"count\": 1, \"min\": 354, \"max\": 354}, \"Number of Batches Since Last Reset\": {\"sum\": 18.0, \"count\": 1, \"min\": 18, \"max\": 18}}}\u001b[0m\n",
      "\u001b[34m[07/27/2024 11:40:50 INFO 139895807760192] #throughput_metric: host=algo-1, train throughput=4411.134958808552 records/second\u001b[0m\n",
      "\u001b[34m[2024-07-27 11:40:50.255] [tensorio] [info] epoch_stats={\"data_pipeline\": \"/opt/ml/input/data/train\", \"epoch\": 12, \"duration\": 64, \"num_examples\": 18, \"num_bytes\": 33984}\u001b[0m\n",
      "\u001b[34m#metrics {\"StartTime\": 1722080450.255674, \"EndTime\": 1722080450.2557058, \"Dimensions\": {\"Algorithm\": \"Linear Learner\", \"Host\": \"algo-1\", \"Operation\": \"training\", \"epoch\": 4, \"model\": 0}, \"Metrics\": {\"train_absolute_loss_objective\": {\"sum\": 0.35845789488624125, \"count\": 1, \"min\": 0.35845789488624125, \"max\": 0.35845789488624125}}}\u001b[0m\n",
      "\u001b[34m#metrics {\"StartTime\": 1722080450.25576, \"EndTime\": 1722080450.255772, \"Dimensions\": {\"Algorithm\": \"Linear Learner\", \"Host\": \"algo-1\", \"Operation\": \"training\", \"epoch\": 4, \"model\": 1}, \"Metrics\": {\"train_absolute_loss_objective\": {\"sum\": 0.35580118824453916, \"count\": 1, \"min\": 0.35580118824453916, \"max\": 0.35580118824453916}}}\u001b[0m\n",
      "\u001b[34m#metrics {\"StartTime\": 1722080450.2558112, \"EndTime\": 1722080450.2558217, \"Dimensions\": {\"Algorithm\": \"Linear Learner\", \"Host\": \"algo-1\", \"Operation\": \"training\", \"epoch\": 4, \"model\": 2}, \"Metrics\": {\"train_absolute_loss_objective\": {\"sum\": 0.3623874201494105, \"count\": 1, \"min\": 0.3623874201494105, \"max\": 0.3623874201494105}}}\u001b[0m\n",
      "\u001b[34m#metrics {\"StartTime\": 1722080450.2558517, \"EndTime\": 1722080450.2558596, \"Dimensions\": {\"Algorithm\": \"Linear Learner\", \"Host\": \"algo-1\", \"Operation\": \"training\", \"epoch\": 4, \"model\": 3}, \"Metrics\": {\"train_absolute_loss_objective\": {\"sum\": 0.3622144011890187, \"count\": 1, \"min\": 0.3622144011890187, \"max\": 0.3622144011890187}}}\u001b[0m\n",
      "\u001b[34m#metrics {\"StartTime\": 1722080450.2558904, \"EndTime\": 1722080450.2558992, \"Dimensions\": {\"Algorithm\": \"Linear Learner\", \"Host\": \"algo-1\", \"Operation\": \"training\", \"epoch\": 4, \"model\": 4}, \"Metrics\": {\"train_absolute_loss_objective\": {\"sum\": 0.38287661776823156, \"count\": 1, \"min\": 0.38287661776823156, \"max\": 0.38287661776823156}}}\u001b[0m\n",
      "\u001b[34m#metrics {\"StartTime\": 1722080450.2559278, \"EndTime\": 1722080450.2559354, \"Dimensions\": {\"Algorithm\": \"Linear Learner\", \"Host\": \"algo-1\", \"Operation\": \"training\", \"epoch\": 4, \"model\": 5}, \"Metrics\": {\"train_absolute_loss_objective\": {\"sum\": 0.48788190729477826, \"count\": 1, \"min\": 0.48788190729477826, \"max\": 0.48788190729477826}}}\u001b[0m\n",
      "\u001b[34m#metrics {\"StartTime\": 1722080450.2559621, \"EndTime\": 1722080450.255971, \"Dimensions\": {\"Algorithm\": \"Linear Learner\", \"Host\": \"algo-1\", \"Operation\": \"training\", \"epoch\": 4, \"model\": 6}, \"Metrics\": {\"train_absolute_loss_objective\": {\"sum\": 0.4051239574656767, \"count\": 1, \"min\": 0.4051239574656767, \"max\": 0.4051239574656767}}}\u001b[0m\n",
      "\u001b[34m#metrics {\"StartTime\": 1722080450.2559981, \"EndTime\": 1722080450.256007, \"Dimensions\": {\"Algorithm\": \"Linear Learner\", \"Host\": \"algo-1\", \"Operation\": \"training\", \"epoch\": 4, \"model\": 7}, \"Metrics\": {\"train_absolute_loss_objective\": {\"sum\": 0.48723510153153365, \"count\": 1, \"min\": 0.48723510153153365, \"max\": 0.48723510153153365}}}\u001b[0m\n",
      "\u001b[34m#metrics {\"StartTime\": 1722080450.2560296, \"EndTime\": 1722080450.256038, \"Dimensions\": {\"Algorithm\": \"Linear Learner\", \"Host\": \"algo-1\", \"Operation\": \"training\", \"epoch\": 4, \"model\": 8}, \"Metrics\": {\"train_absolute_loss_objective\": {\"sum\": 0.35592544499565576, \"count\": 1, \"min\": 0.35592544499565576, \"max\": 0.35592544499565576}}}\u001b[0m\n",
      "\u001b[34m#metrics {\"StartTime\": 1722080450.2560635, \"EndTime\": 1722080450.256072, \"Dimensions\": {\"Algorithm\": \"Linear Learner\", \"Host\": \"algo-1\", \"Operation\": \"training\", \"epoch\": 4, \"model\": 9}, \"Metrics\": {\"train_absolute_loss_objective\": {\"sum\": 0.37546302150277533, \"count\": 1, \"min\": 0.37546302150277533, \"max\": 0.37546302150277533}}}\u001b[0m\n",
      "\u001b[34m[07/27/2024 11:40:50 INFO 139895807760192] #quality_metric: host=algo-1, epoch=4, train absolute_loss_objective <loss>=0.35845789488624125\u001b[0m\n",
      "\u001b[34m[07/27/2024 11:40:50 INFO 139895807760192] #early_stopping_criteria_metric: host=algo-1, epoch=4, criteria=absolute_loss_objective, value=0.35580118824453916\u001b[0m\n",
      "\u001b[34m[07/27/2024 11:40:50 INFO 139895807760192] Epoch 4: Loss improved. Updating best model\u001b[0m\n",
      "\u001b[34m[07/27/2024 11:40:50 INFO 139895807760192] Saving model for epoch: 4\u001b[0m\n",
      "\u001b[34m[07/27/2024 11:40:50 INFO 139895807760192] Saved checkpoint to \"/tmp/tmpaj77jfet/mx-mod-0000.params\"\u001b[0m\n",
      "\u001b[34m[07/27/2024 11:40:50 INFO 139895807760192] #progress_metric: host=algo-1, completed 100.0 % of epochs\u001b[0m\n",
      "\u001b[34m#metrics {\"StartTime\": 1722080450.1904798, \"EndTime\": 1722080450.2616172, \"Dimensions\": {\"Algorithm\": \"Linear Learner\", \"Host\": \"algo-1\", \"Operation\": \"training\", \"epoch\": 4, \"Meta\": \"training_data_iter\"}, \"Metrics\": {\"Total Records Seen\": {\"sum\": 2144.0, \"count\": 1, \"min\": 2144, \"max\": 2144}, \"Total Batches Seen\": {\"sum\": 109.0, \"count\": 1, \"min\": 109, \"max\": 109}, \"Max Records Seen Between Resets\": {\"sum\": 354.0, \"count\": 1, \"min\": 354, \"max\": 354}, \"Max Batches Seen Between Resets\": {\"sum\": 18.0, \"count\": 1, \"min\": 18, \"max\": 18}, \"Reset Count\": {\"sum\": 7.0, \"count\": 1, \"min\": 7, \"max\": 7}, \"Number of Records Since Last Reset\": {\"sum\": 354.0, \"count\": 1, \"min\": 354, \"max\": 354}, \"Number of Batches Since Last Reset\": {\"sum\": 18.0, \"count\": 1, \"min\": 18, \"max\": 18}}}\u001b[0m\n",
      "\u001b[34m[07/27/2024 11:40:50 INFO 139895807760192] #throughput_metric: host=algo-1, train throughput=4969.754106920513 records/second\u001b[0m\n",
      "\u001b[34m[07/27/2024 11:40:50 WARNING 139895807760192] wait_for_all_workers will not sync workers since the kv store is not running distributed\u001b[0m\n",
      "\u001b[34m[07/27/2024 11:40:50 WARNING 139895807760192] wait_for_all_workers will not sync workers since the kv store is not running distributed\u001b[0m\n",
      "\u001b[34m[2024-07-27 11:40:50.262] [tensorio] [info] epoch_stats={\"data_pipeline\": \"/opt/ml/input/data/train\", \"epoch\": 14, \"duration\": 0, \"num_examples\": 1, \"num_bytes\": 1920}\u001b[0m\n",
      "\u001b[34m[2024-07-27 11:40:50.280] [tensorio] [info] epoch_stats={\"data_pipeline\": \"/opt/ml/input/data/train\", \"epoch\": 16, \"duration\": 16, \"num_examples\": 18, \"num_bytes\": 33984}\u001b[0m\n",
      "\u001b[34m[07/27/2024 11:40:50 INFO 139895807760192] #train_score (algo-1) : ('absolute_loss_objective', 3.1551129292633573)\u001b[0m\n",
      "\u001b[34m[07/27/2024 11:40:50 INFO 139895807760192] #train_score (algo-1) : ('mse', 23.881444812494482)\u001b[0m\n",
      "\u001b[34m[07/27/2024 11:40:50 INFO 139895807760192] #train_score (algo-1) : ('absolute_loss', 3.1551129292633573)\u001b[0m\n",
      "\u001b[34m[07/27/2024 11:40:50 INFO 139895807760192] #train_score (algo-1) : ('rmse', 4.886864517509615)\u001b[0m\n",
      "\u001b[34m[07/27/2024 11:40:50 INFO 139895807760192] #train_score (algo-1) : ('r2', 0.6928931421333451)\u001b[0m\n",
      "\u001b[34m[07/27/2024 11:40:50 INFO 139895807760192] #train_score (algo-1) : ('mae', 3.1551129252223644)\u001b[0m\n",
      "\u001b[34m[07/27/2024 11:40:50 INFO 139895807760192] #quality_metric: host=algo-1, train absolute_loss_objective <loss>=3.1551129292633573\u001b[0m\n",
      "\u001b[34m[07/27/2024 11:40:50 INFO 139895807760192] #quality_metric: host=algo-1, train mse <loss>=23.881444812494482\u001b[0m\n",
      "\u001b[34m[07/27/2024 11:40:50 INFO 139895807760192] #quality_metric: host=algo-1, train absolute_loss <loss>=3.1551129292633573\u001b[0m\n",
      "\u001b[34m[07/27/2024 11:40:50 INFO 139895807760192] #quality_metric: host=algo-1, train rmse <loss>=4.886864517509615\u001b[0m\n",
      "\u001b[34m[07/27/2024 11:40:50 INFO 139895807760192] #quality_metric: host=algo-1, train r2 <loss>=0.6928931421333451\u001b[0m\n",
      "\u001b[34m[07/27/2024 11:40:50 INFO 139895807760192] #quality_metric: host=algo-1, train mae <loss>=3.1551129252223644\u001b[0m\n",
      "\u001b[34m[07/27/2024 11:40:50 INFO 139895807760192] Best model found for hyperparameters: {\"optimizer\": \"adam\", \"learning_rate\": 0.005, \"wd\": 0.0001, \"l1\": 0.0, \"lr_scheduler_step\": 100, \"lr_scheduler_factor\": 0.99, \"lr_scheduler_minimum_lr\": 1e-05}\u001b[0m\n",
      "\u001b[34m[07/27/2024 11:40:50 INFO 139895807760192] Saved checkpoint to \"/tmp/tmpplpmmr88/mx-mod-0000.params\"\u001b[0m\n",
      "\u001b[34m[07/27/2024 11:40:50 INFO 139895807760192] Test data is not provided.\u001b[0m\n",
      "\u001b[34m#metrics {\"StartTime\": 1722080449.754023, \"EndTime\": 1722080450.2857094, \"Dimensions\": {\"Algorithm\": \"Linear Learner\", \"Host\": \"algo-1\", \"Operation\": \"training\"}, \"Metrics\": {\"initialize.time\": {\"sum\": 127.63452529907227, \"count\": 1, \"min\": 127.63452529907227, \"max\": 127.63452529907227}, \"epochs\": {\"sum\": 5.0, \"count\": 1, \"min\": 5, \"max\": 5}, \"check_early_stopping.time\": {\"sum\": 3.268718719482422, \"count\": 5, \"min\": 0.6072521209716797, \"max\": 0.7214546203613281}, \"update.time\": {\"sum\": 363.0213737487793, \"count\": 5, \"min\": 68.42207908630371, \"max\": 77.24928855895996}, \"finalize.time\": {\"sum\": 19.978046417236328, \"count\": 1, \"min\": 19.978046417236328, \"max\": 19.978046417236328}, \"setuptime\": {\"sum\": 1.6226768493652344, \"count\": 1, \"min\": 1.6226768493652344, \"max\": 1.6226768493652344}, \"totaltime\": {\"sum\": 620.0473308563232, \"count\": 1, \"min\": 620.0473308563232, \"max\": 620.0473308563232}}}\u001b[0m\n",
      "\n",
      "2024-07-27 11:41:07 Completed - Training job completed\n",
      "Training seconds: 150\n",
      "Billable seconds: 150\n"
     ]
    }
   ],
   "source": [
    "linear = sagemaker.estimator.Estimator(container,\n",
    "                                       role, \n",
    "                                       instance_count = 1, \n",
    "                                       instance_type = 'ml.c4.xlarge',\n",
    "                                       output_path = output_location,\n",
    "                                       sagemaker_session = sagemaker_session)\n",
    "\n",
    "#Different hyperparameters we can tune with Linear Learner in the link below\n",
    "#https://docs.aws.amazon.com/sagemaker/latest/dg/ll_hyperparameters.html\n",
    "#We have 13 input features in X_train, our model problem is regression\n",
    "linear.set_hyperparameters(feature_dim = 13,\n",
    "                           predictor_type = 'regressor',\n",
    "                           mini_batch_size = 20,\n",
    "                           epochs = 5,\n",
    "                           num_models = 10,\n",
    "                           loss = 'absolute_loss')\n",
    "\n",
    "#Pass in S3 training_data path variable we declared earlier\n",
    "linear.fit({'train': s3_train_data})"
   ]
  },
  {
   "cell_type": "code",
   "execution_count": 19,
   "id": "e8b899a4-fdcc-4004-b6c0-ea62c32cec14",
   "metadata": {},
   "outputs": [
    {
     "name": "stderr",
     "output_type": "stream",
     "text": [
      "INFO:sagemaker:Creating model with name: linear-learner-2024-07-27-11-47-37-085\n",
      "INFO:sagemaker:Creating endpoint-config with name linear-learner-2024-07-27-11-47-37-085\n",
      "INFO:sagemaker:Creating endpoint with name linear-learner-2024-07-27-11-47-37-085\n"
     ]
    },
    {
     "name": "stdout",
     "output_type": "stream",
     "text": [
      "--------!"
     ]
    }
   ],
   "source": [
    "linear_regressor = linear.deploy(initial_instance_count = 1,\n",
    "                                          instance_type = 'ml.m4.xlarge')"
   ]
  },
  {
   "cell_type": "code",
   "execution_count": 21,
   "id": "68e7dae0-44a6-4341-8f8c-eb8930bb3f62",
   "metadata": {},
   "outputs": [],
   "source": [
    "# from sagemaker.predictor import csv_serializer, json_deserializer\n",
    "from sagemaker.serializers import CSVSerializer\n",
    "from sagemaker.deserializers import JSONDeserializer\n",
    "\n",
    "#need to make sure data is in correct format for deployed model\n",
    "linear_regressor.serializer = CSVSerializer()\n",
    "linear_regressor.deserializer = JSONDeserializer()"
   ]
  },
  {
   "cell_type": "code",
   "execution_count": 22,
   "id": "27bcaa13-1543-470c-9202-f702539c1043",
   "metadata": {},
   "outputs": [
    {
     "data": {
      "text/plain": [
       "{'predictions': [{'score': 27.6195068359375},\n",
       "  {'score': 37.374996185302734},\n",
       "  {'score': 34.036415100097656},\n",
       "  {'score': 38.02196502685547},\n",
       "  {'score': 35.23229217529297},\n",
       "  {'score': 32.277469635009766},\n",
       "  {'score': 25.557031631469727},\n",
       "  {'score': 27.944887161254883},\n",
       "  {'score': 32.59526062011719},\n",
       "  {'score': 20.361328125},\n",
       "  {'score': 22.643383026123047},\n",
       "  {'score': 10.742461204528809},\n",
       "  {'score': 16.620140075683594},\n",
       "  {'score': 18.97341537475586},\n",
       "  {'score': 15.72938346862793},\n",
       "  {'score': 18.302709579467773},\n",
       "  {'score': 17.284954071044922},\n",
       "  {'score': 7.546535491943359},\n",
       "  {'score': 19.889938354492188},\n",
       "  {'score': 16.268146514892578},\n",
       "  {'score': 22.44206428527832},\n",
       "  {'score': 19.52414894104004},\n",
       "  {'score': 25.34992218017578},\n",
       "  {'score': 17.961307525634766},\n",
       "  {'score': 15.916417121887207},\n",
       "  {'score': 19.515106201171875},\n",
       "  {'score': 29.212677001953125},\n",
       "  {'score': 25.257930755615234},\n",
       "  {'score': 21.506864547729492},\n",
       "  {'score': 9.299912452697754},\n",
       "  {'score': 5.617759704589844},\n",
       "  {'score': 20.578067779541016},\n",
       "  {'score': 22.647674560546875},\n",
       "  {'score': 26.803070068359375},\n",
       "  {'score': 17.50298309326172},\n",
       "  {'score': 37.52476119995117},\n",
       "  {'score': 28.425731658935547},\n",
       "  {'score': 29.360326766967773},\n",
       "  {'score': 23.19514274597168},\n",
       "  {'score': 32.68796920776367},\n",
       "  {'score': 18.36212730407715},\n",
       "  {'score': 21.357868194580078},\n",
       "  {'score': 15.39361572265625},\n",
       "  {'score': 29.348628997802734},\n",
       "  {'score': 16.224172592163086},\n",
       "  {'score': 3.3066329956054688},\n",
       "  {'score': 22.35299301147461},\n",
       "  {'score': 35.98829650878906},\n",
       "  {'score': 20.139881134033203},\n",
       "  {'score': 18.033824920654297},\n",
       "  {'score': 33.3194580078125},\n",
       "  {'score': 15.526501655578613},\n",
       "  {'score': 36.22029113769531},\n",
       "  {'score': 24.46116065979004},\n",
       "  {'score': 15.617300033569336},\n",
       "  {'score': 6.148103713989258},\n",
       "  {'score': 21.261693954467773},\n",
       "  {'score': 21.183382034301758},\n",
       "  {'score': 23.164932250976562},\n",
       "  {'score': 16.68438720703125},\n",
       "  {'score': 16.699047088623047},\n",
       "  {'score': 23.529747009277344},\n",
       "  {'score': 30.123802185058594},\n",
       "  {'score': 20.336021423339844},\n",
       "  {'score': 23.907705307006836},\n",
       "  {'score': 30.99458122253418},\n",
       "  {'score': 21.678544998168945},\n",
       "  {'score': 14.37171745300293},\n",
       "  {'score': 24.209394454956055},\n",
       "  {'score': 15.275856971740723},\n",
       "  {'score': 14.22293472290039},\n",
       "  {'score': 23.608654022216797},\n",
       "  {'score': 16.671180725097656},\n",
       "  {'score': 27.369701385498047},\n",
       "  {'score': 9.61707592010498},\n",
       "  {'score': 29.071224212646484},\n",
       "  {'score': 31.602970123291016},\n",
       "  {'score': 12.176944732666016},\n",
       "  {'score': 15.715161323547363},\n",
       "  {'score': 30.966588973999023},\n",
       "  {'score': 25.514585494995117},\n",
       "  {'score': 29.53072738647461},\n",
       "  {'score': 13.964130401611328},\n",
       "  {'score': 26.894935607910156},\n",
       "  {'score': 16.476776123046875},\n",
       "  {'score': 24.003400802612305},\n",
       "  {'score': 11.219538688659668},\n",
       "  {'score': 12.189549446105957},\n",
       "  {'score': 30.222299575805664},\n",
       "  {'score': 13.232510566711426},\n",
       "  {'score': 24.03046989440918},\n",
       "  {'score': 26.37395477294922},\n",
       "  {'score': 20.01819610595703},\n",
       "  {'score': 21.01498031616211},\n",
       "  {'score': 9.167147636413574},\n",
       "  {'score': 24.205059051513672},\n",
       "  {'score': 14.835885047912598},\n",
       "  {'score': 14.607617378234863},\n",
       "  {'score': 22.519775390625},\n",
       "  {'score': 24.298479080200195},\n",
       "  {'score': 21.199234008789062},\n",
       "  {'score': 16.208393096923828},\n",
       "  {'score': 12.080862998962402},\n",
       "  {'score': 17.683300018310547},\n",
       "  {'score': 5.7128753662109375},\n",
       "  {'score': 23.469301223754883},\n",
       "  {'score': 20.591083526611328},\n",
       "  {'score': 14.74559211730957},\n",
       "  {'score': 29.31949234008789},\n",
       "  {'score': 25.115753173828125},\n",
       "  {'score': 20.592388153076172},\n",
       "  {'score': 20.892044067382812},\n",
       "  {'score': 41.95741271972656},\n",
       "  {'score': 19.625709533691406},\n",
       "  {'score': 6.297939300537109},\n",
       "  {'score': 1.0320911407470703},\n",
       "  {'score': 17.852821350097656},\n",
       "  {'score': 33.5411376953125},\n",
       "  {'score': 32.90959930419922},\n",
       "  {'score': 28.100954055786133},\n",
       "  {'score': 26.395706176757812},\n",
       "  {'score': 19.59096908569336},\n",
       "  {'score': 20.534393310546875},\n",
       "  {'score': 24.682798385620117},\n",
       "  {'score': 13.702775955200195},\n",
       "  {'score': 19.327640533447266},\n",
       "  {'score': 15.543801307678223},\n",
       "  {'score': 21.895511627197266},\n",
       "  {'score': 15.878231048583984},\n",
       "  {'score': 23.550458908081055},\n",
       "  {'score': 19.143836975097656},\n",
       "  {'score': 28.204965591430664},\n",
       "  {'score': 12.001468658447266},\n",
       "  {'score': 13.753889083862305},\n",
       "  {'score': 6.643899917602539},\n",
       "  {'score': 23.495166778564453},\n",
       "  {'score': 25.38628578186035},\n",
       "  {'score': 22.44469451904297},\n",
       "  {'score': 26.867572784423828},\n",
       "  {'score': 22.673381805419922},\n",
       "  {'score': 7.326747894287109},\n",
       "  {'score': 32.02931213378906},\n",
       "  {'score': 14.128387451171875},\n",
       "  {'score': 27.057662963867188},\n",
       "  {'score': 23.677425384521484},\n",
       "  {'score': 18.26181411743164},\n",
       "  {'score': 13.858424186706543},\n",
       "  {'score': 23.97909164428711},\n",
       "  {'score': 15.224129676818848},\n",
       "  {'score': 31.966611862182617},\n",
       "  {'score': 17.372106552124023},\n",
       "  {'score': 17.99782943725586}]}"
      ]
     },
     "execution_count": 22,
     "metadata": {},
     "output_type": "execute_result"
    }
   ],
   "source": [
    "result = linear_regressor.predict(X_test)\n",
    "result"
   ]
  },
  {
   "cell_type": "code",
   "execution_count": 23,
   "id": "d491a38e-cee3-4472-9ec9-157b95eae88b",
   "metadata": {},
   "outputs": [
    {
     "data": {
      "text/plain": [
       "array([27.61950684, 37.37499619, 34.0364151 , 38.02196503, 35.23229218,\n",
       "       32.27746964, 25.55703163, 27.94488716, 32.59526062, 20.36132812,\n",
       "       22.64338303, 10.7424612 , 16.62014008, 18.97341537, 15.72938347,\n",
       "       18.30270958, 17.28495407,  7.54653549, 19.88993835, 16.26814651,\n",
       "       22.44206429, 19.52414894, 25.34992218, 17.96130753, 15.91641712,\n",
       "       19.5151062 , 29.212677  , 25.25793076, 21.50686455,  9.29991245,\n",
       "        5.6177597 , 20.57806778, 22.64767456, 26.80307007, 17.50298309,\n",
       "       37.5247612 , 28.42573166, 29.36032677, 23.19514275, 32.68796921,\n",
       "       18.3621273 , 21.35786819, 15.39361572, 29.348629  , 16.22417259,\n",
       "        3.306633  , 22.35299301, 35.98829651, 20.13988113, 18.03382492,\n",
       "       33.31945801, 15.52650166, 36.22029114, 24.46116066, 15.61730003,\n",
       "        6.14810371, 21.26169395, 21.18338203, 23.16493225, 16.68438721,\n",
       "       16.69904709, 23.52974701, 30.12380219, 20.33602142, 23.90770531,\n",
       "       30.99458122, 21.678545  , 14.37171745, 24.20939445, 15.27585697,\n",
       "       14.22293472, 23.60865402, 16.67118073, 27.36970139,  9.61707592,\n",
       "       29.07122421, 31.60297012, 12.17694473, 15.71516132, 30.96658897,\n",
       "       25.51458549, 29.53072739, 13.9641304 , 26.89493561, 16.47677612,\n",
       "       24.0034008 , 11.21953869, 12.18954945, 30.22229958, 13.23251057,\n",
       "       24.03046989, 26.37395477, 20.01819611, 21.01498032,  9.16714764,\n",
       "       24.20505905, 14.83588505, 14.60761738, 22.51977539, 24.29847908,\n",
       "       21.19923401, 16.2083931 , 12.080863  , 17.68330002,  5.71287537,\n",
       "       23.46930122, 20.59108353, 14.74559212, 29.31949234, 25.11575317,\n",
       "       20.59238815, 20.89204407, 41.95741272, 19.62570953,  6.2979393 ,\n",
       "        1.03209114, 17.85282135, 33.5411377 , 32.9095993 , 28.10095406,\n",
       "       26.39570618, 19.59096909, 20.53439331, 24.68279839, 13.70277596,\n",
       "       19.32764053, 15.54380131, 21.89551163, 15.87823105, 23.55045891,\n",
       "       19.14383698, 28.20496559, 12.00146866, 13.75388908,  6.64389992,\n",
       "       23.49516678, 25.38628578, 22.44469452, 26.86757278, 22.67338181,\n",
       "        7.32674789, 32.02931213, 14.12838745, 27.05766296, 23.67742538,\n",
       "       18.26181412, 13.85842419, 23.97909164, 15.22412968, 31.96661186,\n",
       "       17.37210655, 17.99782944])"
      ]
     },
     "execution_count": 23,
     "metadata": {},
     "output_type": "execute_result"
    }
   ],
   "source": [
    "# json을 array 로 변경\n",
    "predictions = np.array([res['score'] for res in result['predictions']])\n",
    "predictions"
   ]
  },
  {
   "cell_type": "code",
   "execution_count": 24,
   "id": "46147287-9f6c-4a9d-83be-d443349fdc7a",
   "metadata": {},
   "outputs": [
    {
     "data": {
      "text/plain": [
       "<matplotlib.collections.PathCollection at 0x7f1f5b8c03d0>"
      ]
     },
     "execution_count": 24,
     "metadata": {},
     "output_type": "execute_result"
    },
    {
     "data": {
      "image/png": "[encoded data removed]",
      "text/plain": [
       "<Figure size 640x480 with 1 Axes>"
      ]
     },
     "metadata": {},
     "output_type": "display_data"
    }
   ],
   "source": [
    "plt.scatter(y_test, predictions)"
   ]
  },
  {
   "cell_type": "code",
   "execution_count": 28,
   "id": "2f8c9dc3-0ed1-461e-98b5-033778b0e08f",
   "metadata": {},
   "outputs": [
    {
     "data": {
      "text/plain": [
       "<Axes: ylabel='Count'>"
      ]
     },
     "execution_count": 28,
     "metadata": {},
     "output_type": "execute_result"
    },
    {
     "data": {
      "image/png": "[encoded data removed]",
      "text/plain": [
       "<Figure size 640x480 with 1 Axes>"
      ]
     },
     "metadata": {},
     "output_type": "display_data"
    }
   ],
   "source": [
    "sns.histplot((y_test - predictions))\n",
    "# plt.hist((y_test - predictions))"
   ]
  },
  {
   "cell_type": "code",
   "execution_count": 29,
   "id": "c3cad730-b4ea-4946-a9ba-b68afe6d2fc0",
   "metadata": {},
   "outputs": [
    {
     "data": {
      "text/plain": [
       "5.707753058355101"
      ]
     },
     "execution_count": 29,
     "metadata": {},
     "output_type": "execute_result"
    }
   ],
   "source": [
    "from sklearn import metrics \n",
    "np.sqrt(metrics.mean_squared_error(y_test, predictions))"
   ]
  },
  {
   "cell_type": "code",
   "execution_count": 30,
   "id": "6f902239-ac05-41cb-abdd-7c8f1a925193",
   "metadata": {},
   "outputs": [
    {
     "name": "stderr",
     "output_type": "stream",
     "text": [
      "INFO:sagemaker:Deleting endpoint configuration with name: linear-learner-2024-07-27-11-47-37-085\n",
      "INFO:sagemaker:Deleting endpoint with name: linear-learner-2024-07-27-11-47-37-085\n"
     ]
    }
   ],
   "source": [
    "linear_regressor.delete_endpoint()"
   ]
  },
  {
   "cell_type": "code",
   "execution_count": null,
   "id": "999f8ffb-c503-4a3b-ae01-055e7333e2e2",
   "metadata": {},
   "outputs": [],
   "source": []
  }
 ],
 "metadata": {
  "kernelspec": {
   "display_name": "Python 3 (ipykernel)",
   "language": "python",
   "name": "python3"
  },
  "language_info": {
   "codemirror_mode": {
    "name": "ipython",
    "version": 3
   },
   "file_extension": ".py",
   "mimetype": "text/x-python",
   "name": "python",
   "nbconvert_exporter": "python",
   "pygments_lexer": "ipython3",
   "version": "3.10.14"
  }
 },
 "nbformat": 4,
 "nbformat_minor": 5
}
