{
 "cells": [
  {
   "cell_type": "code",
   "execution_count": 1,
   "id": "427f65ea-d20d-4b81-af3c-056a44ee80d8",
   "metadata": {},
   "outputs": [],
   "source": [
    "import boto3\n",
    "import time\n",
    "import pandas as pd"
   ]
  },
  {
   "cell_type": "code",
   "execution_count": 3,
   "id": "d0eeafd5-3b2e-46f8-85c1-bab4881e35ca",
   "metadata": {},
   "outputs": [],
   "source": [
    "bucket_name = 'jasonbucketseoul'\n",
    "file_path = \"redfin_2023-04-20-18-17-37.csv\"\n",
    "object_name = \"redfin/redfin_2023-04-20-18-17-37.csv\"\n",
    "database_name = \"redfin\"\n",
    "table_name = \"redfin_house_data\"\n",
    "output_bucket = bucket_name"
   ]
  },
  {
   "cell_type": "code",
   "execution_count": 4,
   "id": "5974b2e4-1229-48d5-9591-161eb3a32d0c",
   "metadata": {},
   "outputs": [],
   "source": [
    "def upload_csv_to_s3(bucket, file_path, object_name):\n",
    "    s3 = boto3.client('s3')\n",
    "    s3.upload_file(file_path, bucket, object_name)"
   ]
  },
  {
   "cell_type": "code",
   "execution_count": 5,
   "id": "235b51f1-0788-4eef-90a8-541ca008a7ff",
   "metadata": {},
   "outputs": [],
   "source": [
    "def create_athena_database(database_name):\n",
    "    athena = boto3.client('athena')\n",
    "    query = f\"CREATE DATABASE IF NOT EXISTS {database_name};\"\n",
    "\n",
    "    response = athena.start_query_execution(\n",
    "        QueryString=query,\n",
    "        ResultConfiguration={\n",
    "            'OutputLocation': f's3://{output_bucket}/athena-results/'\n",
    "        }\n",
    "    )"
   ]
  },
  {
   "cell_type": "code",
   "execution_count": 6,
   "id": "65baeb6c-d4fc-4f10-8852-7421f9a0fa06",
   "metadata": {},
   "outputs": [],
   "source": [
    "def create_athena_table(database, table, s3_location):\n",
    "    athena = boto3.client('athena')\n",
    "    query = f\"\"\"\n",
    "    CREATE EXTERNAL TABLE {database}.{table} (\n",
    "        sale_type STRING,\n",
    "        sold_date STRING,\n",
    "        property_type STRING,\n",
    "        address STRING,\n",
    "        city STRING,\n",
    "        state_or_province STRING,\n",
    "        zip_or_postal_code STRING,\n",
    "        price BIGINT,\n",
    "        beds INT,\n",
    "        baths INT,\n",
    "        location STRING,\n",
    "        square_feet INT,\n",
    "        lot_size INT,\n",
    "        year_built INT,\n",
    "        days_on_market INT,\n",
    "        price_per_square_feet INT,\n",
    "        hoa_per_month STRING,\n",
    "        status STRING,\n",
    "        next_open_house_start_time STRING,\n",
    "        next_open_house_end_time STRING,\n",
    "        url STRING,\n",
    "        source STRING,\n",
    "        mls STRING,\n",
    "        favorite STRING,\n",
    "        interested STRING,\n",
    "        latitude DOUBLE,\n",
    "        longitude DOUBLE\n",
    "    )\n",
    "    ROW FORMAT SERDE 'org.apache.hadoop.hive.serde2.lazy.LazySimpleSerDe'\n",
    "    WITH SERDEPROPERTIES (\n",
    "      'serialization.format' = ',',\n",
    "      'field.delim' = ','\n",
    "    ) LOCATION '{s3_location}'\n",
    "    TBLPROPERTIES ('has_encrypted_data'='false', 'skip.header.line.count'='1');\n",
    "    \"\"\"\n",
    "\n",
    "    response = athena.start_query_execution(\n",
    "        QueryString=query,\n",
    "        QueryExecutionContext={\n",
    "            'Database': database\n",
    "        },\n",
    "        ResultConfiguration={\n",
    "            'OutputLocation': f's3://{output_bucket}/athena-results/'\n",
    "        }\n",
    "    )"
   ]
  },
  {
   "cell_type": "code",
   "execution_count": 7,
   "id": "34587eb8-46b0-43f2-86d8-d0dee496e1d3",
   "metadata": {},
   "outputs": [],
   "source": [
    "def run_athena_query(database, query):\n",
    "    athena = boto3.client('athena')\n",
    "    response = athena.start_query_execution(\n",
    "        QueryString=query,\n",
    "        QueryExecutionContext={\n",
    "            'Database': database\n",
    "        },\n",
    "        ResultConfiguration={\n",
    "            'OutputLocation': f's3://{output_bucket}/athena-results/'\n",
    "        }\n",
    "    )\n",
    "    return response['QueryExecutionId']"
   ]
  },
  {
   "cell_type": "code",
   "execution_count": 8,
   "id": "8306d771-c6ef-4829-884e-3a9078b35c98",
   "metadata": {},
   "outputs": [],
   "source": [
    "def wait_for_query_to_complete(athena, query_execution_id, wait_interval=5):\n",
    "    while True:\n",
    "        response = athena.get_query_execution(QueryExecutionId=query_execution_id)\n",
    "        state = response['QueryExecution']['Status']['State']\n",
    "\n",
    "        if state in ('SUCCEEDED', 'FAILED', 'CANCELLED'):\n",
    "            break\n",
    "\n",
    "        time.sleep(wait_interval)\n",
    "\n",
    "    if state == 'FAILED':\n",
    "        error_message = response['QueryExecution']['Status'].get('StateChangeReason')\n",
    "        print(f\"Query failed: {error_message}\")\n",
    "\n",
    "    return state"
   ]
  },
  {
   "cell_type": "code",
   "execution_count": 9,
   "id": "9ab97bca-e07c-4d68-8b5e-542faafce799",
   "metadata": {},
   "outputs": [],
   "source": [
    "def get_query_result(query_execution_id):\n",
    "    athena = boto3.client('athena')\n",
    "    wait_for_query_to_complete(athena, query_execution_id)\n",
    "    response = athena.get_query_results(\n",
    "        QueryExecutionId=query_execution_id\n",
    "    )\n",
    "    return response"
   ]
  },
  {
   "cell_type": "code",
   "execution_count": 12,
   "id": "584bac0e-5e0b-4f39-83fe-49fe2889f140",
   "metadata": {},
   "outputs": [],
   "source": [
    "upload_csv_to_s3(bucket_name, file_path, object_name)\n",
    "create_athena_database(database_name)\n",
    "create_athena_table(database_name, table_name, f's3://{bucket_name}/{object_name.rsplit(\"/\", 1)[0]}/')"
   ]
  },
  {
   "cell_type": "code",
   "execution_count": 13,
   "id": "c8886ca4-2371-4b7b-8707-20d459b12d5b",
   "metadata": {},
   "outputs": [],
   "source": [
    "query = \"\"\"\n",
    "SELECT AVG(price) as average_price\n",
    "FROM redfin_house_data\n",
    "WHERE property_type = 'Single Family Residential';\n",
    "\"\"\"\n",
    "query_execution_id = run_athena_query(database_name, query)\n",
    "result = get_query_result(query_execution_id)"
   ]
  },
  {
   "cell_type": "code",
   "execution_count": 14,
   "id": "d49abefd-4a25-46eb-8ed5-8b16c47cd921",
   "metadata": {},
   "outputs": [],
   "source": [
    "def format_athena_output(result):\n",
    "    column_names = [column_info['Label'] for column_info in result['ResultSet']['ResultSetMetadata']['ColumnInfo']]\n",
    "    rows = result['ResultSet']['Rows'][1:]  # Exclude the header row\n",
    "\n",
    "    formatted_rows = []\n",
    "    for row in rows:\n",
    "        formatted_row = [item['VarCharValue'] for item in row['Data']]\n",
    "        formatted_rows.append(formatted_row)\n",
    "\n",
    "    formatted_result = pd.DataFrame(formatted_rows, columns=column_names)\n",
    "    return formatted_result"
   ]
  },
  {
   "cell_type": "code",
   "execution_count": 15,
   "id": "34cc913a-bc38-43c2-a76a-a3a1e98c9613",
   "metadata": {},
   "outputs": [
    {
     "name": "stdout",
     "output_type": "stream",
     "text": [
      "Athena query result:\n",
      "        average_price\n",
      "0  164286.96153846153\n",
      "--------------------------------------------------------------------------------\n",
      "Average price of Single Family Residential properties: 164286.96153846153\n"
     ]
    }
   ],
   "source": [
    "formatted_result = format_athena_output(result)\n",
    "print(\"Athena query result:\")\n",
    "print(formatted_result)\n",
    "\n",
    "# Read the CSV file into a pandas DataFrame\n",
    "data = pd.read_csv(file_path)\n",
    "\n",
    "# Filter the data to only include rows with 'Single Family Residential' property type\n",
    "filtered_data = data[data['PROPERTY TYPE'] == 'Single Family Residential']\n",
    "\n",
    "# Calculate the average price of the filtered data\n",
    "average_price = filtered_data['PRICE'].mean()\n",
    "print('-' * 80)\n",
    "print(\"Average price of Single Family Residential properties:\", average_price)"
   ]
  },
  {
   "cell_type": "code",
   "execution_count": null,
   "id": "209291b9-04eb-4536-8aa0-7e60c4c17840",
   "metadata": {},
   "outputs": [],
   "source": []
  }
 ],
 "metadata": {
  "kernelspec": {
   "display_name": "Python 3 (ipykernel)",
   "language": "python",
   "name": "python3"
  },
  "language_info": {
   "codemirror_mode": {
    "name": "ipython",
    "version": 3
   },
   "file_extension": ".py",
   "mimetype": "text/x-python",
   "name": "python",
   "nbconvert_exporter": "python",
   "pygments_lexer": "ipython3",
   "version": "3.10.13"
  }
 },
 "nbformat": 4,
 "nbformat_minor": 5
}
